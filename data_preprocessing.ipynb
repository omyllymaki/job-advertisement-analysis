{
 "cells": [
  {
   "cell_type": "markdown",
   "metadata": {},
   "source": [
    "# DATA PREPOCESSING"
   ]
  },
  {
   "cell_type": "code",
   "execution_count": 1,
   "metadata": {
    "ExecuteTime": {
     "end_time": "2019-03-10T07:03:02.492622Z",
     "start_time": "2019-03-10T07:03:01.915376Z"
    }
   },
   "outputs": [],
   "source": [
    "import pickle\n",
    "import pandas as pd\n",
    "from utils import save_pickle_file, load_pickle_file\n",
    "from constants import RAW_DATA_PATH, PROCESSED_DATA_PATH\n",
    "from text_processing import process_documents, detect_language"
   ]
  },
  {
   "cell_type": "code",
   "execution_count": 2,
   "metadata": {},
   "outputs": [
    {
     "name": "stderr",
     "output_type": "stream",
     "text": [
      "[nltk_data] Downloading package stopwords to /home/ossi/nltk_data...\n",
      "[nltk_data]   Package stopwords is already up-to-date!\n",
      "[nltk_data] Downloading package punkt to /home/ossi/nltk_data...\n",
      "[nltk_data]   Package punkt is already up-to-date!\n",
      "[nltk_data] Downloading package wordnet to /home/ossi/nltk_data...\n",
      "[nltk_data]   Package wordnet is already up-to-date!\n"
     ]
    },
    {
     "data": {
      "text/plain": [
       "True"
      ]
     },
     "execution_count": 2,
     "metadata": {},
     "output_type": "execute_result"
    }
   ],
   "source": [
    "import nltk\n",
    "nltk.download('stopwords')\n",
    "nltk.download('punkt')\n",
    "nltk.download('wordnet')"
   ]
  },
  {
   "cell_type": "markdown",
   "metadata": {},
   "source": [
    "## Data loading"
   ]
  },
  {
   "cell_type": "code",
   "execution_count": 3,
   "metadata": {
    "ExecuteTime": {
     "end_time": "2019-03-10T07:03:02.587378Z",
     "start_time": "2019-03-10T07:03:02.495369Z"
    }
   },
   "outputs": [],
   "source": [
    "data_original = load_pickle_file(RAW_DATA_PATH)\n",
    "df_original = pd.DataFrame(data_original)"
   ]
  },
  {
   "cell_type": "code",
   "execution_count": 4,
   "metadata": {
    "ExecuteTime": {
     "end_time": "2019-03-10T07:03:02.617079Z",
     "start_time": "2019-03-10T07:03:02.589119Z"
    }
   },
   "outputs": [
    {
     "name": "stdout",
     "output_type": "stream",
     "text": [
      "(10254, 10)\n"
     ]
    },
    {
     "data": {
      "text/html": [
       "<div>\n",
       "<style scoped>\n",
       "    .dataframe tbody tr th:only-of-type {\n",
       "        vertical-align: middle;\n",
       "    }\n",
       "\n",
       "    .dataframe tbody tr th {\n",
       "        vertical-align: top;\n",
       "    }\n",
       "\n",
       "    .dataframe thead th {\n",
       "        text-align: right;\n",
       "    }\n",
       "</style>\n",
       "<table border=\"1\" class=\"dataframe\">\n",
       "  <thead>\n",
       "    <tr style=\"text-align: right;\">\n",
       "      <th></th>\n",
       "      <th>0</th>\n",
       "      <th>1</th>\n",
       "      <th>2</th>\n",
       "      <th>3</th>\n",
       "      <th>4</th>\n",
       "    </tr>\n",
       "  </thead>\n",
       "  <tbody>\n",
       "    <tr>\n",
       "      <th>categories__name</th>\n",
       "      <td>RPA</td>\n",
       "      <td>RPA</td>\n",
       "      <td>RPA</td>\n",
       "      <td>java</td>\n",
       "      <td>software</td>\n",
       "    </tr>\n",
       "    <tr>\n",
       "      <th>date_published</th>\n",
       "      <td>2019-05-11</td>\n",
       "      <td>2019-05-11</td>\n",
       "      <td>2019-05-11</td>\n",
       "      <td>2019-05-11</td>\n",
       "      <td>2019-05-11</td>\n",
       "    </tr>\n",
       "    <tr>\n",
       "      <th>employer__name</th>\n",
       "      <td>HUS</td>\n",
       "      <td>HUS</td>\n",
       "      <td>HUS Helsingin yliopistollinen sairaala</td>\n",
       "      <td>Pearson Frank</td>\n",
       "      <td>Pearson Frank</td>\n",
       "    </tr>\n",
       "    <tr>\n",
       "      <th>id</th>\n",
       "      <td>62258</td>\n",
       "      <td>62259</td>\n",
       "      <td>62260</td>\n",
       "      <td>62323</td>\n",
       "      <td>62323</td>\n",
       "    </tr>\n",
       "    <tr>\n",
       "      <th>is_active</th>\n",
       "      <td>True</td>\n",
       "      <td>True</td>\n",
       "      <td>True</td>\n",
       "      <td>True</td>\n",
       "      <td>True</td>\n",
       "    </tr>\n",
       "    <tr>\n",
       "      <th>job_description</th>\n",
       "      <td>Hae meille, jos haluat työskennellä ICT-alan n...</td>\n",
       "      <td>Hae meille, jos haluat työskennellä ICT-alan n...</td>\n",
       "      <td>Sovellussuunnittelija (RPA) Ohjelmistorobotiik...</td>\n",
       "      <td>Java Developers Wanted in Turku for an Initial...</td>\n",
       "      <td>Java Developers Wanted in Turku for an Initial...</td>\n",
       "    </tr>\n",
       "    <tr>\n",
       "      <th>job_title__name</th>\n",
       "      <td>Sovellussuunnittelija (RPA) Ohjelmistorobotiik...</td>\n",
       "      <td>Sovellussuunnittelija (RPA) Ohjelmistorobotiik...</td>\n",
       "      <td>Sovellussuunnittelija (RPA) Ohjelmistorobotiik...</td>\n",
       "      <td>Java Developers</td>\n",
       "      <td>Java Developers</td>\n",
       "    </tr>\n",
       "    <tr>\n",
       "      <th>location__name</th>\n",
       "      <td>Helsinki</td>\n",
       "      <td>Helsinki</td>\n",
       "      <td>Helsinki</td>\n",
       "      <td>Turku</td>\n",
       "      <td>Turku</td>\n",
       "    </tr>\n",
       "    <tr>\n",
       "      <th>location__population</th>\n",
       "      <td>645482</td>\n",
       "      <td>645482</td>\n",
       "      <td>645482</td>\n",
       "      <td>189930</td>\n",
       "      <td>189930</td>\n",
       "    </tr>\n",
       "    <tr>\n",
       "      <th>pages__name</th>\n",
       "      <td>Indeed</td>\n",
       "      <td>Indeed</td>\n",
       "      <td>Indeed</td>\n",
       "      <td>Indeed</td>\n",
       "      <td>Indeed</td>\n",
       "    </tr>\n",
       "  </tbody>\n",
       "</table>\n",
       "</div>"
      ],
      "text/plain": [
       "                                                                      0  \\\n",
       "categories__name                                                    RPA   \n",
       "date_published                                               2019-05-11   \n",
       "employer__name                                                      HUS   \n",
       "id                                                                62258   \n",
       "is_active                                                          True   \n",
       "job_description       Hae meille, jos haluat työskennellä ICT-alan n...   \n",
       "job_title__name       Sovellussuunnittelija (RPA) Ohjelmistorobotiik...   \n",
       "location__name                                                 Helsinki   \n",
       "location__population                                             645482   \n",
       "pages__name                                                      Indeed   \n",
       "\n",
       "                                                                      1  \\\n",
       "categories__name                                                    RPA   \n",
       "date_published                                               2019-05-11   \n",
       "employer__name                                                      HUS   \n",
       "id                                                                62259   \n",
       "is_active                                                          True   \n",
       "job_description       Hae meille, jos haluat työskennellä ICT-alan n...   \n",
       "job_title__name       Sovellussuunnittelija (RPA) Ohjelmistorobotiik...   \n",
       "location__name                                                 Helsinki   \n",
       "location__population                                             645482   \n",
       "pages__name                                                      Indeed   \n",
       "\n",
       "                                                                      2  \\\n",
       "categories__name                                                    RPA   \n",
       "date_published                                               2019-05-11   \n",
       "employer__name                   HUS Helsingin yliopistollinen sairaala   \n",
       "id                                                                62260   \n",
       "is_active                                                          True   \n",
       "job_description       Sovellussuunnittelija (RPA) Ohjelmistorobotiik...   \n",
       "job_title__name       Sovellussuunnittelija (RPA) Ohjelmistorobotiik...   \n",
       "location__name                                                 Helsinki   \n",
       "location__population                                             645482   \n",
       "pages__name                                                      Indeed   \n",
       "\n",
       "                                                                      3  \\\n",
       "categories__name                                                   java   \n",
       "date_published                                               2019-05-11   \n",
       "employer__name                                            Pearson Frank   \n",
       "id                                                                62323   \n",
       "is_active                                                          True   \n",
       "job_description       Java Developers Wanted in Turku for an Initial...   \n",
       "job_title__name                                         Java Developers   \n",
       "location__name                                                    Turku   \n",
       "location__population                                             189930   \n",
       "pages__name                                                      Indeed   \n",
       "\n",
       "                                                                      4  \n",
       "categories__name                                               software  \n",
       "date_published                                               2019-05-11  \n",
       "employer__name                                            Pearson Frank  \n",
       "id                                                                62323  \n",
       "is_active                                                          True  \n",
       "job_description       Java Developers Wanted in Turku for an Initial...  \n",
       "job_title__name                                         Java Developers  \n",
       "location__name                                                    Turku  \n",
       "location__population                                             189930  \n",
       "pages__name                                                      Indeed  "
      ]
     },
     "execution_count": 4,
     "metadata": {},
     "output_type": "execute_result"
    }
   ],
   "source": [
    "print(df_original.shape)\n",
    "df_original.head(5).T"
   ]
  },
  {
   "cell_type": "markdown",
   "metadata": {},
   "source": [
    "## Data preprocessing"
   ]
  },
  {
   "cell_type": "markdown",
   "metadata": {},
   "source": [
    "### Filter by locations"
   ]
  },
  {
   "cell_type": "code",
   "execution_count": 5,
   "metadata": {
    "ExecuteTime": {
     "end_time": "2019-03-10T07:03:02.633001Z",
     "start_time": "2019-03-10T07:03:02.620036Z"
    }
   },
   "outputs": [
    {
     "name": "stdout",
     "output_type": "stream",
     "text": [
      "(10042, 10)\n"
     ]
    }
   ],
   "source": [
    "locations = ['Helsinki', 'Tampere', 'Turku', 'Oulu', 'Espoo', 'Vantaa']\n",
    "df_original = df_original[df_original['location__name'].isin(locations)]\n",
    "print(df_original.shape)"
   ]
  },
  {
   "cell_type": "markdown",
   "metadata": {},
   "source": [
    "### Filter by language"
   ]
  },
  {
   "cell_type": "code",
   "execution_count": 6,
   "metadata": {},
   "outputs": [],
   "source": [
    "df_original['language'] = df_original['job_description'].apply(lambda x: detect_language(x)[0])"
   ]
  },
  {
   "cell_type": "code",
   "execution_count": 7,
   "metadata": {},
   "outputs": [
    {
     "name": "stdout",
     "output_type": "stream",
     "text": [
      "(10020, 11)\n"
     ]
    }
   ],
   "source": [
    "languages = ['en', 'fi']\n",
    "df_original = df_original[df_original['language'].isin(languages)]\n",
    "print(df_original.shape)"
   ]
  },
  {
   "cell_type": "markdown",
   "metadata": {},
   "source": [
    "### Group duplicates"
   ]
  },
  {
   "cell_type": "code",
   "execution_count": 8,
   "metadata": {
    "ExecuteTime": {
     "end_time": "2019-03-10T07:03:03.786178Z",
     "start_time": "2019-03-10T07:03:02.635993Z"
    }
   },
   "outputs": [],
   "source": [
    "df_data = df_original.groupby('id', as_index=False).aggregate(lambda x: list(set(x)))\n",
    "\n",
    "def one_length_list_to_value(x):\n",
    "    if isinstance(x, list):\n",
    "        if len(x) == 1:\n",
    "            x = x[0]   \n",
    "    return x\n",
    "\n",
    "df_data = df_data.applymap(one_length_list_to_value)\n",
    "df_data['job_summary'] = df_data['job_title__name'] + ' | ' + df_data['employer__name'] + ' | ' + df_data['location__name']"
   ]
  },
  {
   "cell_type": "code",
   "execution_count": 9,
   "metadata": {
    "ExecuteTime": {
     "end_time": "2019-03-10T07:03:03.807887Z",
     "start_time": "2019-03-10T07:03:03.786178Z"
    },
    "scrolled": true
   },
   "outputs": [
    {
     "name": "stdout",
     "output_type": "stream",
     "text": [
      "(6659, 12)\n"
     ]
    },
    {
     "data": {
      "text/html": [
       "<div>\n",
       "<style scoped>\n",
       "    .dataframe tbody tr th:only-of-type {\n",
       "        vertical-align: middle;\n",
       "    }\n",
       "\n",
       "    .dataframe tbody tr th {\n",
       "        vertical-align: top;\n",
       "    }\n",
       "\n",
       "    .dataframe thead th {\n",
       "        text-align: right;\n",
       "    }\n",
       "</style>\n",
       "<table border=\"1\" class=\"dataframe\">\n",
       "  <thead>\n",
       "    <tr style=\"text-align: right;\">\n",
       "      <th></th>\n",
       "      <th>0</th>\n",
       "      <th>1</th>\n",
       "      <th>2</th>\n",
       "      <th>3</th>\n",
       "      <th>4</th>\n",
       "    </tr>\n",
       "  </thead>\n",
       "  <tbody>\n",
       "    <tr>\n",
       "      <th>id</th>\n",
       "      <td>1</td>\n",
       "      <td>2</td>\n",
       "      <td>3</td>\n",
       "      <td>4</td>\n",
       "      <td>5</td>\n",
       "    </tr>\n",
       "    <tr>\n",
       "      <th>categories__name</th>\n",
       "      <td>[python, RPA]</td>\n",
       "      <td>RPA</td>\n",
       "      <td>RPA</td>\n",
       "      <td>[python, RPA]</td>\n",
       "      <td>RPA</td>\n",
       "    </tr>\n",
       "    <tr>\n",
       "      <th>date_published</th>\n",
       "      <td>2018-06-22</td>\n",
       "      <td>2018-06-22</td>\n",
       "      <td>2018-06-20</td>\n",
       "      <td>2018-06-18</td>\n",
       "      <td>2018-06-18</td>\n",
       "    </tr>\n",
       "    <tr>\n",
       "      <th>employer__name</th>\n",
       "      <td>Veikkaus Oy</td>\n",
       "      <td>Nordea</td>\n",
       "      <td>Nordea</td>\n",
       "      <td>Raha-Automaattiyhdistys (Ray)</td>\n",
       "      <td>HCL Technologies</td>\n",
       "    </tr>\n",
       "    <tr>\n",
       "      <th>is_active</th>\n",
       "      <td>False</td>\n",
       "      <td>False</td>\n",
       "      <td>False</td>\n",
       "      <td>False</td>\n",
       "      <td>False</td>\n",
       "    </tr>\n",
       "    <tr>\n",
       "      <th>job_description</th>\n",
       "      <td>Veikkaus on suomalaisten omistama peliyhtiö. T...</td>\n",
       "      <td>We are looking for Insurance Professional´s. Y...</td>\n",
       "      <td>It’s an exciting time for you to join us. We’r...</td>\n",
       "      <td>Veikkaus on suomalaisten omistama peliyhtiÃ¶. ...</td>\n",
       "      <td>To review RPA project modules developed by the...</td>\n",
       "    </tr>\n",
       "    <tr>\n",
       "      <th>job_title__name</th>\n",
       "      <td>Testausautomaation ja RPA:n asiantuntija</td>\n",
       "      <td>Insurance Professional, Helsinki</td>\n",
       "      <td>Robotic Process Automation Developer (temporar...</td>\n",
       "      <td>Testausautomaation ja RPA:n asiantuntija</td>\n",
       "      <td>Associate General Manager-RPA</td>\n",
       "    </tr>\n",
       "    <tr>\n",
       "      <th>location__name</th>\n",
       "      <td>Helsinki</td>\n",
       "      <td>Helsinki</td>\n",
       "      <td>Helsinki</td>\n",
       "      <td>Helsinki</td>\n",
       "      <td>Helsinki</td>\n",
       "    </tr>\n",
       "    <tr>\n",
       "      <th>location__population</th>\n",
       "      <td>645482</td>\n",
       "      <td>645482</td>\n",
       "      <td>645482</td>\n",
       "      <td>645482</td>\n",
       "      <td>645482</td>\n",
       "    </tr>\n",
       "    <tr>\n",
       "      <th>pages__name</th>\n",
       "      <td>Indeed</td>\n",
       "      <td>Indeed</td>\n",
       "      <td>Indeed</td>\n",
       "      <td>Indeed</td>\n",
       "      <td>Indeed</td>\n",
       "    </tr>\n",
       "    <tr>\n",
       "      <th>language</th>\n",
       "      <td>fi</td>\n",
       "      <td>en</td>\n",
       "      <td>en</td>\n",
       "      <td>fi</td>\n",
       "      <td>en</td>\n",
       "    </tr>\n",
       "    <tr>\n",
       "      <th>job_summary</th>\n",
       "      <td>Testausautomaation ja RPA:n asiantuntija | Vei...</td>\n",
       "      <td>Insurance Professional, Helsinki | Nordea | He...</td>\n",
       "      <td>Robotic Process Automation Developer (temporar...</td>\n",
       "      <td>Testausautomaation ja RPA:n asiantuntija | Rah...</td>\n",
       "      <td>Associate General Manager-RPA | HCL Technologi...</td>\n",
       "    </tr>\n",
       "  </tbody>\n",
       "</table>\n",
       "</div>"
      ],
      "text/plain": [
       "                                                                      0  \\\n",
       "id                                                                    1   \n",
       "categories__name                                          [python, RPA]   \n",
       "date_published                                               2018-06-22   \n",
       "employer__name                                              Veikkaus Oy   \n",
       "is_active                                                         False   \n",
       "job_description       Veikkaus on suomalaisten omistama peliyhtiö. T...   \n",
       "job_title__name                Testausautomaation ja RPA:n asiantuntija   \n",
       "location__name                                                 Helsinki   \n",
       "location__population                                             645482   \n",
       "pages__name                                                      Indeed   \n",
       "language                                                             fi   \n",
       "job_summary           Testausautomaation ja RPA:n asiantuntija | Vei...   \n",
       "\n",
       "                                                                      1  \\\n",
       "id                                                                    2   \n",
       "categories__name                                                    RPA   \n",
       "date_published                                               2018-06-22   \n",
       "employer__name                                                   Nordea   \n",
       "is_active                                                         False   \n",
       "job_description       We are looking for Insurance Professional´s. Y...   \n",
       "job_title__name                        Insurance Professional, Helsinki   \n",
       "location__name                                                 Helsinki   \n",
       "location__population                                             645482   \n",
       "pages__name                                                      Indeed   \n",
       "language                                                             en   \n",
       "job_summary           Insurance Professional, Helsinki | Nordea | He...   \n",
       "\n",
       "                                                                      2  \\\n",
       "id                                                                    3   \n",
       "categories__name                                                    RPA   \n",
       "date_published                                               2018-06-20   \n",
       "employer__name                                                   Nordea   \n",
       "is_active                                                         False   \n",
       "job_description       It’s an exciting time for you to join us. We’r...   \n",
       "job_title__name       Robotic Process Automation Developer (temporar...   \n",
       "location__name                                                 Helsinki   \n",
       "location__population                                             645482   \n",
       "pages__name                                                      Indeed   \n",
       "language                                                             en   \n",
       "job_summary           Robotic Process Automation Developer (temporar...   \n",
       "\n",
       "                                                                      3  \\\n",
       "id                                                                    4   \n",
       "categories__name                                          [python, RPA]   \n",
       "date_published                                               2018-06-18   \n",
       "employer__name                            Raha-Automaattiyhdistys (Ray)   \n",
       "is_active                                                         False   \n",
       "job_description       Veikkaus on suomalaisten omistama peliyhtiÃ¶. ...   \n",
       "job_title__name                Testausautomaation ja RPA:n asiantuntija   \n",
       "location__name                                                 Helsinki   \n",
       "location__population                                             645482   \n",
       "pages__name                                                      Indeed   \n",
       "language                                                             fi   \n",
       "job_summary           Testausautomaation ja RPA:n asiantuntija | Rah...   \n",
       "\n",
       "                                                                      4  \n",
       "id                                                                    5  \n",
       "categories__name                                                    RPA  \n",
       "date_published                                               2018-06-18  \n",
       "employer__name                                         HCL Technologies  \n",
       "is_active                                                         False  \n",
       "job_description       To review RPA project modules developed by the...  \n",
       "job_title__name                           Associate General Manager-RPA  \n",
       "location__name                                                 Helsinki  \n",
       "location__population                                             645482  \n",
       "pages__name                                                      Indeed  \n",
       "language                                                             en  \n",
       "job_summary           Associate General Manager-RPA | HCL Technologi...  "
      ]
     },
     "execution_count": 9,
     "metadata": {},
     "output_type": "execute_result"
    }
   ],
   "source": [
    "print(df_data.shape)\n",
    "df_data.head(5).T    "
   ]
  },
  {
   "cell_type": "markdown",
   "metadata": {},
   "source": [
    "### Cleaning, tokenization and lemmatization"
   ]
  },
  {
   "cell_type": "code",
   "execution_count": 10,
   "metadata": {},
   "outputs": [],
   "source": [
    "documents = list(df_data['job_description'])\n",
    "job_summary_list = list(df_data['job_summary'])"
   ]
  },
  {
   "cell_type": "code",
   "execution_count": 11,
   "metadata": {
    "ExecuteTime": {
     "end_time": "2019-03-10T07:04:27.756411Z",
     "start_time": "2019-03-10T07:03:03.836806Z"
    }
   },
   "outputs": [],
   "source": [
    "lemmas = process_documents(documents)\n",
    "processed_documents = [' '.join(lemmas_per_document) for lemmas_per_document in lemmas]"
   ]
  },
  {
   "cell_type": "code",
   "execution_count": 12,
   "metadata": {
    "ExecuteTime": {
     "end_time": "2019-03-10T07:04:27.765328Z",
     "start_time": "2019-03-10T07:04:27.756411Z"
    },
    "scrolled": true
   },
   "outputs": [
    {
     "name": "stdout",
     "output_type": "stream",
     "text": [
      "Nokia is a global leader in the technologies that connect people and things. With state-of-the-art software, hardware and services for any type of network, Nokia is uniquely positioned to help communication service providers, governments, and large enterprises deliver on the promise of 5G, the Cloud and the Internet of Things.\n",
      "\n",
      "Serving customers in over 100 countries, our research scientists and engineers continue to invent and accelerate new technologies that will increasingly transform the way \n",
      "\n",
      "['nokia', 'global', 'leader', 'technology', 'connect', 'people', 'thing', 'stateoftheart', 'software', 'hardware', 'service', 'type', 'network', 'nokia', 'uniquely', 'positioned', 'help', 'communication', 'service', 'provider', 'government', 'large', 'enterprise', 'deliver', 'promise', 'cloud', 'internet', 'thing', 'serving', 'customer', 'country', 'research', 'scientist', 'engineer', 'continue', 'invent', 'accelerate', 'new', 'technology', 'increasingly', 'transform', 'way', 'people', 'thing', 'communicate', 'connect', 'nokia', 'equal', 'opportunity', 'employer'] \n",
      "\n",
      "nokia global leader technology connect people thing stateoftheart software hardware service type network nokia uniquely positioned help communication service provider government large enterprise deliver promise cloud internet thing serving customer country research scientist engineer continue invent accelerate new technology increasingly transform way people thing communicate connect nokia equal opportunity employer commited diversity inclusion nokia employment decision made regardless race colo \n",
      "\n"
     ]
    }
   ],
   "source": [
    "print(documents[33][:500], '\\n')\n",
    "print(lemmas[33][:50], '\\n')\n",
    "print(processed_documents[33][:500], '\\n')"
   ]
  },
  {
   "cell_type": "markdown",
   "metadata": {},
   "source": [
    "## Save data for analysis"
   ]
  },
  {
   "cell_type": "code",
   "execution_count": 13,
   "metadata": {
    "ExecuteTime": {
     "end_time": "2019-03-10T07:04:28.310262Z",
     "start_time": "2019-03-10T07:04:27.767320Z"
    }
   },
   "outputs": [],
   "source": [
    "processed_data = {\n",
    "    'df_original': df_original,\n",
    "    'df_processed': df_data,\n",
    "    'lemmas': lemmas,\n",
    "    'job_summary_list': job_summary_list,\n",
    "    'documents': documents,\n",
    "    'processed_documents': processed_documents,\n",
    "}\n",
    "save_pickle_file(processed_data, PROCESSED_DATA_PATH)"
   ]
  }
 ],
 "metadata": {
  "kernelspec": {
   "display_name": "venv",
   "language": "python",
   "name": "venv"
  },
  "language_info": {
   "codemirror_mode": {
    "name": "ipython",
    "version": 3
   },
   "file_extension": ".py",
   "mimetype": "text/x-python",
   "name": "python",
   "nbconvert_exporter": "python",
   "pygments_lexer": "ipython3",
   "version": "3.6.7"
  },
  "varInspector": {
   "cols": {
    "lenName": 16,
    "lenType": 16,
    "lenVar": 40
   },
   "kernels_config": {
    "python": {
     "delete_cmd_postfix": "",
     "delete_cmd_prefix": "del ",
     "library": "var_list.py",
     "varRefreshCmd": "print(var_dic_list())"
    },
    "r": {
     "delete_cmd_postfix": ") ",
     "delete_cmd_prefix": "rm(",
     "library": "var_list.r",
     "varRefreshCmd": "cat(var_dic_list()) "
    }
   },
   "types_to_exclude": [
    "module",
    "function",
    "builtin_function_or_method",
    "instance",
    "_Feature"
   ],
   "window_display": false
  }
 },
 "nbformat": 4,
 "nbformat_minor": 2
}
