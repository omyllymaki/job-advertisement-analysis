{
 "cells": [
  {
   "cell_type": "markdown",
   "metadata": {},
   "source": [
    "# ANALYSIS"
   ]
  },
  {
   "cell_type": "code",
   "execution_count": 1,
   "metadata": {
    "ExecuteTime": {
     "end_time": "2019-03-10T07:12:18.134901Z",
     "start_time": "2019-03-10T07:12:18.095009Z"
    }
   },
   "outputs": [],
   "source": [
    "%load_ext autoreload\n",
    "%autoreload 2"
   ]
  },
  {
   "cell_type": "code",
   "execution_count": 2,
   "metadata": {
    "ExecuteTime": {
     "end_time": "2019-03-10T07:12:20.878774Z",
     "start_time": "2019-03-10T07:12:18.136896Z"
    }
   },
   "outputs": [],
   "source": [
    "from sklearn.ensemble import IsolationForest\n",
    "from sklearn.decomposition import TruncatedSVD, LatentDirichletAllocation\n",
    "from gensim.summarization import keywords\n",
    "from gensim.summarization import summarize\n",
    "import pandas as pd\n",
    "from collections import Counter\n",
    "\n",
    "from analysis import *\n",
    "from cluster_analysis import *\n",
    "from dimension_reduction import *\n",
    "from plotting import *\n",
    "from result_print import *\n",
    "from outlier_detection import *\n",
    "from topic_modeling import *\n",
    "from utils import save_pickle_file, load_pickle_file\n",
    "from constants import PROCESSED_DATA_PATH, BOW_MODEL_PATH"
   ]
  },
  {
   "cell_type": "code",
   "execution_count": 3,
   "metadata": {
    "ExecuteTime": {
     "end_time": "2019-03-10T07:12:20.956166Z",
     "start_time": "2019-03-10T07:12:20.878774Z"
    }
   },
   "outputs": [],
   "source": [
    "MAX_DISTANCE = 30\n",
    "OUTLIER_DETECTION_TRESHOLD = 1.4826*3\n",
    "N_TOPICS = 20"
   ]
  },
  {
   "cell_type": "markdown",
   "metadata": {},
   "source": [
    "## Load data"
   ]
  },
  {
   "cell_type": "code",
   "execution_count": 4,
   "metadata": {
    "ExecuteTime": {
     "end_time": "2019-03-10T07:12:21.154863Z",
     "start_time": "2019-03-10T07:12:20.960154Z"
    }
   },
   "outputs": [],
   "source": [
    "model_data = load_pickle_file(BOW_MODEL_PATH)\n",
    "X = model_data['X']\n",
    "model = model_data['model']\n",
    "tdidf_vectorizer = model_data['tdidf_vectorizer']"
   ]
  },
  {
   "cell_type": "code",
   "execution_count": 5,
   "metadata": {
    "ExecuteTime": {
     "end_time": "2019-03-10T07:12:21.843982Z",
     "start_time": "2019-03-10T07:12:21.157628Z"
    }
   },
   "outputs": [],
   "source": [
    "processed_data = load_pickle_file(PROCESSED_DATA_PATH)\n",
    "job_summary_list = processed_data['job_summary_list']\n",
    "documents = processed_data['documents']\n",
    "lemmas = processed_data['lemmas']\n",
    "df_data = processed_data['df_processed']"
   ]
  },
  {
   "cell_type": "markdown",
   "metadata": {},
   "source": [
    "\n",
    "## Analysis"
   ]
  },
  {
   "cell_type": "markdown",
   "metadata": {
    "collapsed": true
   },
   "source": [
    "### Cluster analysis"
   ]
  },
  {
   "cell_type": "code",
   "execution_count": 6,
   "metadata": {
    "ExecuteTime": {
     "end_time": "2019-03-10T07:13:28.546571Z",
     "start_time": "2019-03-10T07:12:21.845978Z"
    }
   },
   "outputs": [
    {
     "name": "stdout",
     "output_type": "stream",
     "text": [
      "Cluster 1\n",
      "Job ads: 60\n",
      "Senior Python Developer | Pearson Frank | Tampere\n",
      "Senior Python in - house Developer - Helsinki | Pearson Frank | Helsinki\n",
      "Data Scientist / Hadoop Architect | Bittium Corporation | Espoo\n",
      "Senior Python Developer - Helsinki | Pearson Frank | Helsinki\n",
      "Tohtorikoulutettava (Doctoral Candidate Position in Artifici... | Aalto-yliopisto | Espoo\n",
      "...\n",
      "\n",
      "Cluster 2\n",
      "Job ads: 357\n",
      "Testausautomaation ja RPA:n asiantuntija | Raha-Automaattiyhdistys (Ray) | Helsinki\n",
      "Junior RPA Developer | Tieto Corporation | Helsinki\n",
      "Web-suunnittelija | Buutti Oy | Oulu\n",
      "Ohjelmistokehittäjiä Helsinkiin, Tampereelle ja Turkuun | Vincit | Helsinki\n",
      "Ohjelmistokehittäjiä | Vincit | Helsinki\n",
      "...\n",
      "\n",
      "Cluster 3\n",
      "Job ads: 71\n",
      "Python-kehittäjä koodariklaaniimme | Rekrytointitalli Oy | Helsinki\n",
      "Koodaava Sysadmin / IT-tuki, PHZ Full Stack Oy | Rekrytointitalli Oy | Helsinki\n",
      "DevOps Cloud Platform Developer, PHZ Full Stack Oy | Rekrytointitalli Oy | Helsinki\n",
      "Koodaava Sysadmin / IT-tuki | Rekrytointitalli Oy | Helsinki\n",
      "Koodaava Sysadmin / IT-tuki, PHZ Full Stack Oy | Rekrytointitalli | Helsinki\n",
      "...\n",
      "\n",
      "Cluster 4\n",
      "Job ads: 306\n",
      "Testausautomaatiokehittäjä | MindFit Consulting Oy | Helsinki\n",
      "Testiautomaatiokonsultti | Sogeti | Espoo\n",
      "Agile/DevOps Test Engineer | Sogeti | Espoo\n",
      "IT trainee/assistant | Frozenbyte Oy | Helsinki\n",
      "Testiautomaatioasiantuntija | Wippii Work Oy | Helsinki\n",
      "...\n",
      "\n",
      "Cluster 5\n",
      "Job ads: 187\n",
      "Ohjelmistosuunnittelija | KTC Finland Oy | Helsinki\n",
      "Ohjelmistokehittäjä (juniori) | Codento | Helsinki\n",
      "Fullstack-ohjelmistokehittäjä | Codento | Helsinki\n",
      "Ohjelmistokehittäjä tai -arkkitehti | Codento | Helsinki\n",
      "Johtava testiautomaatiokonsultti | Sogeti | Espoo\n",
      "...\n",
      "\n",
      "Cluster 6\n",
      "Job ads: 106\n",
      "SENIOR DEVELOPER KLINIK HEALTHCARE SOLUTIONSILLE | Academic Work | Helsinki\n",
      "SALES & BUSINESS DEVELOPMENT MANAGER SUOMEEN JA BALTIAAN | Academic Work | Helsinki\n",
      "Vastavalmistunut junior sovellusasiantuntija BI-ratkaisuiden... | Academic Work | Espoo\n",
      "VASTAVALMISTUNUT JUNIOR SOVELLUSASIANTUNTIJA BI-RATKAISUIDEN... | Academic Work | Espoo\n",
      "BUSINESS CONTROLLER KLINIK HEALTHCARE SOLUTIONSILLE | Academic Work | Helsinki\n",
      "...\n",
      "\n",
      "Cluster 7\n",
      "Job ads: 71\n",
      "Full Stack Developer | CGI | Tampere\n",
      "Full Stack Developer | CGI Suomi | Tampere\n",
      "Technical Tester | CGI | Helsinki\n",
      "Ohjelmistokehittäjä | CGI | Helsinki\n",
      "Data Scientist (finnish) | CGI | Helsinki\n",
      "...\n",
      "\n",
      "Cluster 8\n",
      "Job ads: 747\n",
      "Testausautomaation ja RPA:n asiantuntija | Veikkaus Oy | Helsinki\n",
      "Junior RPA Developer | Tieto Finland Oy | Espoo\n",
      "Ohjelmistorobotiikan asiantuntija | Knowit Oy | Helsinki\n",
      "Junior Python-kehittäjä, Grainsense | Studentwork | Oulu\n",
      "Frontend Engineer | Lamia | Helsinki\n",
      "...\n",
      "\n",
      "Cluster 9\n",
      "Job ads: 241\n",
      "Järjestelmäasiantuntija, vaativuustaso 40.16, Tiedonhankinta... | Suojelupoliisi | Helsinki\n",
      "Erikoistutkijan/projektitutkijan (bioinformaatikko) määräaik... | Turun Yliopisto | Turku\n",
      "RATKAISUARKKITEHTI, Turku | Manpower | Turku\n",
      "RATKAISUARKKITEHTI | Experis | Turku\n",
      "Full Stack trainee, Logia Software Oy | Studentwork | Tampere\n",
      "...\n",
      "\n",
      "Cluster 10\n",
      "Job ads: 196\n",
      "Analyst | If | Turku\n",
      "Data Engineer | Metso | Tampere\n",
      "Data Scientist | Metso | Tampere\n",
      "Data Scientist, Helsinki | 720 Degrees Oy | Helsinki\n",
      "Data Analyst, Helsinki | Total Trivia | Helsinki\n",
      "...\n",
      "\n",
      "Cluster 11\n",
      "Job ads: 335\n",
      "Marketing Analyst | Next Games | Helsinki\n",
      "Project Manager | Lionbridge Technologies | Tampere\n",
      "Account Manager | giosg.com Oy | Helsinki\n",
      "B2B Account Manager, Swiss market | Management Events | Helsinki\n",
      "ACCOUNT MANAGER, SOFTWARE CHANNEL SALES | Mercuri Urval | Helsinki\n",
      "...\n",
      "\n",
      "Cluster 12\n",
      "Job ads: 82\n",
      "Silicon photonic integrated circuit designer (trainee, thesi... | Teknologian tutkimuskeskus VTT Oy | Espoo\n",
      "Silicon photonic integrated circuit designer (trainee, thesi... | VTT Technical Research Centre of Finland Ltd | Espoo\n",
      "Team Lead - Information Systems Associate | United Nations University - WIDER Institute | Helsinki\n",
      "Research Scientist, MEMS Available until 2018.08.12 | VTT Technical Research Centre of Finland Ltd | Espoo\n",
      "Research scientist in innovation policy, foresight and quant... | VTT Technical Research Centre of Finland Ltd | Espoo\n",
      "...\n",
      "\n",
      "Cluster 13\n",
      "Job ads: 275\n",
      "Data Scientist / Hadoop Architect | Bittium Wireless Oy | Oulu\n",
      "Remote sensing GIS expert | ICEYE | Espoo\n",
      "Production Engineer | Ajat Oy | Espoo\n",
      "Senior Legal Counsel | M-Files Oy | Tampere\n",
      "IT management leaders for today and tomorrow (Tampere) | Sofigate | Tampere\n",
      "...\n",
      "\n",
      "Cluster 14\n",
      "Job ads: 130\n",
      "Managing Data Scientist | IBM | Helsinki\n",
      "Graphics System Software Intern | NVIDIA | Helsinki\n",
      "Sr Analytics & Data Scientist | General Electric | Helsinki\n",
      "Data Scientist | IBM | Helsinki\n",
      "Senior System Software Engineer | NVIDIA | Helsinki\n",
      "...\n",
      "\n",
      "Cluster 15\n",
      "Job ads: 429\n",
      "Graduate Software Engineer in Test | Arm | Oulu\n",
      "Customer Success Engineer | Synopsys Finland Oy, Oulu | Oulu\n",
      "Test Automation Engineer/Trainee | Bitbar | Oulu\n",
      "Trainee, Technical Communications | NOKIA | Tampere\n",
      "Artificial Intelligence/ Machine Learning Software Designer | Saab | Tampere\n",
      "...\n",
      "\n",
      "Cluster 16\n",
      "Job ads: 102\n",
      "LEAD DEVELOPER/EXPERIENCED C PROGRAMMER | F-secure | Oulu\n",
      "SENIOR QUALITY ENGINEER FOR ANDROID | F-secure | Oulu\n",
      "QUALITY-ORIENTED SENIOR SYSTEMS ENGINEER | F-secure | Oulu\n",
      "SENIOR SOFTWARE ENGINEER | F-secure | Oulu\n",
      "Quality-oriented Senior Systems Engineer | F-Secure | Oulu\n",
      "...\n",
      "\n",
      "Cluster 17\n",
      "Job ads: 447\n",
      "FULL STACK DEVELOPER WANTED! | Academic Work | Helsinki\n",
      "Backend Developer | Holvi | Helsinki\n",
      "Full Stack Developer WANTED! | Academic Work | Helsinki\n",
      "Senior Python Backend Developer | Synopsys | Oulu\n",
      "SW Architect | Codemate | Oulu\n",
      "...\n",
      "\n",
      "Cluster 18\n",
      "Job ads: 58\n",
      "JR. SOFTWARE ENGINEER | Academic Work | Helsinki\n",
      "SENIOR DEVELOPER TO WORK AS A SOLUTION ARCHITECT! | Academic Work | Helsinki\n",
      "EMBEDDED DEVELOPERS (LINUX, C/C++) FOR SPACE SYSTEMS FINLAND | Academic Work | Helsinki\n",
      "Senior Developer to work as a Solution Architect! | Academic Work | Helsinki\n",
      "DEVOPS/TEST AUTOMATION ENGINEERS TO WORK WITH SECURITY SOLUT... | Academic Work | Helsinki\n",
      "...\n",
      "\n",
      "Cluster 19\n",
      "Job ads: 539\n",
      "Insurance Professional, Helsinki | Nordea | Helsinki\n",
      "Robotic Process Automation Developer (temporary position), H... | Nordea | Helsinki\n",
      "DevOps Engineer | AlphaSense | Helsinki\n",
      "Solution Architect / Data + AI | Nordcloud Solutions | Helsinki\n",
      "BI Specialist/ Data Analyst, Helsinki | Nordea | Helsinki\n",
      "...\n",
      "\n",
      "Cluster 20\n",
      "Job ads: 240\n",
      "Senior Python Developer | Holvi | Helsinki\n",
      "Site Reliability Engineer | Holvi | Helsinki\n",
      "Back-end Developer (2 positions) | aTalent FI | Helsinki\n",
      "Python Developer | Holvi | Helsinki\n",
      "Software Developer (Full-Stack, Backend / Frontend) | Smartly | Helsinki\n",
      "...\n",
      "\n",
      "Cluster 21\n",
      "Job ads: 257\n",
      "Test Architect | Tieto Corporation | Espoo\n",
      "AI -and Big data -engineers | Accenture | Helsinki\n",
      "We are looking for Management Consultants to join our Techno... | EY | Helsinki\n",
      "Consultant - Data & Analytics | BearingPoint | Helsinki\n",
      "Management Consultant | EY | Helsinki\n",
      "...\n",
      "\n",
      "Cluster 22\n",
      "Job ads: 238\n",
      "Postdoctoral Researcher (fixed term) in the area of edge-pla... | Aalto-yliopisto | Espoo\n",
      "Postdoctoral Researcher (fixed term) in the area of edge-pla... | Aalto University | Helsinki\n",
      "Computational Biologist / Bioinformatician | Helsingin yliopiston | Helsinki\n",
      "Postdoctoral Researcher in machine learning for inferring ch... | Aalto University | Helsinki\n",
      "Postdoctoral Researcher in Computational HCI | Aalto University | Helsinki\n",
      "...\n",
      "\n",
      "Cluster 23\n",
      "Job ads: 126\n",
      "Senior Client Side Engineer | Electronic Arts | Helsinki\n",
      "DevOps Engineer | Zynga | Helsinki\n",
      "Senior Game Programmer | Dazzle Rocks | Helsinki\n",
      "Senior AI Programmer | OPM Recruitment | Espoo\n",
      "Lead AI Programmer | OPM Recruitment | Espoo\n",
      "...\n",
      "\n",
      "Cluster 24\n",
      "Job ads: 114\n",
      "Software Engineer Deep Learning Infrastructure | NVIDIA | Helsinki\n",
      "Senior Data Science Engineer | Unity Technologies | Helsinki\n",
      "Business Analyst, Unannounced Project | Zynga | Helsinki\n",
      "Senior Level Designer | Remedy Games | Espoo\n",
      "Software Engineer - Helsinki | NVIDIA | Helsinki\n",
      "...\n",
      "\n",
      "Cluster 25\n",
      "Job ads: 123\n",
      "Summer trainee in Oulu SW R&D | NOKIA | Oulu\n",
      "Trainee, R&D | NOKIA | Oulu\n",
      "Engineer, Verification | NOKIA | Oulu\n",
      "Thesis Worker, R&D Software | NOKIA | Oulu\n",
      "Engineer, Integration | NOKIA | Oulu\n",
      "...\n",
      "\n",
      "Cluster 26\n",
      "Job ads: 71\n",
      "Senior Python, React Developer | Pearson Frank | Helsinki\n",
      "Python Developer - Helsinki -Tech Lead - Pyramid, Django, Fl... | Pearson Frank | Helsinki\n",
      "Python Developer - Helsinki | Pearson Frank | Helsinki\n",
      "Full - Stack Developer - Tampere | Pearson Frank | Turku\n",
      "Full - Stack Developer - Helsinki | Pearson Frank | Helsinki\n",
      "...\n",
      "\n",
      "Cluster 27\n",
      "Job ads: 305\n",
      "Associate General Manager-RPA | HCL Technologies | Helsinki\n",
      "Trainee, Machine Learning | NOKIA | Tampere\n",
      "Back End / Front End / Cloud Services Developers | Sasken Finland Oy | Tampere\n",
      "Trainee | NOKIA | Espoo\n",
      "SENIOR DATA SCIENTIST - CONSULTANCY | Harnham | Helsinki\n",
      "...\n",
      "\n",
      "Cluster 28\n",
      "Job ads: 68\n",
      "Thesis Worker, Productization Oulu | NOKIA | Oulu\n",
      "SW Engineer, Platform Integration | NOKIA | Oulu\n",
      "QUALITY ENGINEER (CUSTOMER DELIVERIES AND QUALITY ASSURANCE) | F-secure | Oulu\n",
      "Thesis Worker, BTS Verification | NOKIA | Oulu\n",
      "Bench Test Engineer - QCT, RFFE, Espoo, Finland | Qualcomm | Espoo\n",
      "...\n",
      "\n",
      "Cluster 29\n",
      "Job ads: 378\n",
      "Senior Software Developer | Arctic Security | Oulu\n",
      "BACKEND DEVELOPER FOR CYBER SECURITY PRODUCTS IN OULU | F-secure | Oulu\n",
      "Front-end Developer | Agendium Oy | Tampere\n",
      "DevOps | Cumucore Oy | Espoo\n",
      "MAGICAL PYTHON DEVELOPER | IDT messaging Inc | Helsinki\n",
      "...\n",
      "\n"
     ]
    },
    {
     "data": {
      "image/png": "[encoded data removed]",
      "text/plain": [
       "<Figure size 432x288 with 1 Axes>"
      ]
     },
     "metadata": {
      "needs_background": "light"
     },
     "output_type": "display_data"
    },
    {
     "data": {
      "image/png": "[encoded data removed]",
      "text/plain": [
       "<Figure size 1152x720 with 1 Axes>"
      ]
     },
     "metadata": {
      "needs_background": "light"
     },
     "output_type": "display_data"
    }
   ],
   "source": [
    "cluster_data = cluster_analysis(X, MAX_DISTANCE)\n",
    "linkage_matrix = cluster_data['linkage_matrix']\n",
    "similarities = cluster_data['similarities']\n",
    "clusters = cluster_data['clusters']\n",
    "\n",
    "display_clustering_results(linkage_matrix, clusters, job_summary_list, MAX_DISTANCE)"
   ]
  },
  {
   "cell_type": "code",
   "execution_count": 7,
   "metadata": {
    "ExecuteTime": {
     "end_time": "2019-03-10T07:13:28.627391Z",
     "start_time": "2019-03-10T07:13:28.548600Z"
    }
   },
   "outputs": [
    {
     "data": {
      "text/plain": [
       "2"
      ]
     },
     "execution_count": 7,
     "metadata": {},
     "output_type": "execute_result"
    }
   ],
   "source": [
    "k = calculate_optimal_number_of_clusters(linkage_matrix)\n",
    "k"
   ]
  },
  {
   "cell_type": "markdown",
   "metadata": {},
   "source": [
    "### Most similar documents"
   ]
  },
  {
   "cell_type": "code",
   "execution_count": 8,
   "metadata": {
    "ExecuteTime": {
     "end_time": "2019-03-10T07:13:28.726126Z",
     "start_time": "2019-03-10T07:13:28.632378Z"
    }
   },
   "outputs": [
    {
     "name": "stdout",
     "output_type": "stream",
     "text": [
      "Reference document:  5G Integration engineer | NOKIA | Oulu\n",
      "Most similar documents:\n",
      "[('5G Integration engineer | NOKIA | Oulu', 1.0),\n",
      " ('Engineer, Integration | NOKIA | Oulu', 0.9059183462729917),\n",
      " ('5G Engineer, Integration | NOKIA | Oulu', 0.9059183462729917),\n",
      " ('5G RF Integration | NOKIA | Oulu', 0.7878217220569228),\n",
      " ('Integrator 5G RF | NOKIA | Oulu', 0.7878217220569228),\n",
      " ('Engineer 5G RF Integration | NOKIA | Oulu', 0.7878217220569228),\n",
      " ('Technical Lead 5G RF Integration | NOKIA | Oulu', 0.7878217220569228),\n",
      " ('Engineer Software | NOKIA | Oulu', 0.65863372196389),\n",
      " ('Thesis Worker, Productization Oulu | NOKIA | Oulu', 0.4721563990702521),\n",
      " ('Trainee, Productization | NOKIA | Oulu', 0.36003425729514027),\n",
      " ('SW Engineer, Platform Integration | NOKIA | Oulu', 0.335441056164457),\n",
      " ('Software Engineer (Drivers & Verification) | u-blox Espoo Oy | Tampere',\n",
      "  0.32429269940703537),\n",
      " ('Build/Test Engineer (AWR in Finland) | National instrument | Espoo',\n",
      "  0.31873111301104445),\n",
      " ('Test Automation Engineer | General Electric | Helsinki', 0.314548115641434),\n",
      " ('Build/Test Engineer (AWR in Finland) | National Instruments | Espoo',\n",
      "  0.31122319462054654)]\n"
     ]
    }
   ],
   "source": [
    "document_index = 50\n",
    "top_indices, top_similarities = calculate_most_similar_documents(document_index, similarities, 15)\n",
    "display_most_similar_documents(document_index, top_indices, top_similarities, job_summary_list)"
   ]
  },
  {
   "cell_type": "code",
   "execution_count": 9,
   "metadata": {
    "ExecuteTime": {
     "end_time": "2019-03-10T07:13:28.822868Z",
     "start_time": "2019-03-10T07:13:28.729119Z"
    }
   },
   "outputs": [
    {
     "name": "stdout",
     "output_type": "stream",
     "text": [
      "Reference document:  Testausautomaation ja RPA:n asiantuntija | Veikkaus Oy | Helsinki\n",
      "Most similar documents:\n",
      "[('Testausautomaation ja RPA:n asiantuntija | Veikkaus Oy | Helsinki', 1.0),\n",
      " ('Testausautomaation ja RPA:n asiantuntija | Raha-Automaattiyhdistys (Ray) | '\n",
      "  'Helsinki',\n",
      "  0.8546352776634591),\n",
      " ('DevOps- asiantuntija | Veikkaus Oy | Helsinki', 0.7716278409369035),\n",
      " ('Hankintapäällikkö | Veikkaus Oy | Helsinki', 0.43469950778256405),\n",
      " ('Ohjelmistokehittäjä | Veikkaus Oy | Helsinki', 0.4342633160968282),\n",
      " ('Pelijärjestelmä\\xadkehittäjä | Veikkaus Oy | Helsinki', 0.42869660425206724),\n",
      " ('Pelijärjestelmä\\xadkehittäjiä | Veikkaus Oy | Helsinki',\n",
      "  0.42869660425206724),\n",
      " ('Pelijärjestelmäkehittäjä | Veikkaus Oy | Helsinki', 0.42445656565558854),\n",
      " ('WEB-analyytikko | Veikkaus Oy | Helsinki', 0.41773035087434496),\n",
      " ('Ohjelmistokehittäjä (Senior) | Veikkaus Oy | Helsinki', 0.3897131217563443),\n",
      " ('Big Data - kehittäjä | Veikkaus Oy | Helsinki', 0.38092646116158113),\n",
      " ('Datan ja raportoinnin tekninen asiantuntija | Veikkaus Oy | Helsinki',\n",
      "  0.37289945459527296),\n",
      " ('Tietohallintopäällikkö | Ecolan Oy | Tampere', 0.37177225689763244),\n",
      " ('Riskienhallintapäällikkö | Veikkaus Oy | Helsinki', 0.3570673979579133),\n",
      " ('Ohjelmistokehittäjä | Raha-Automaattiyhdistys (Ray) | Helsinki',\n",
      "  0.35610823912648887)]\n"
     ]
    }
   ],
   "source": [
    "document_index = 0\n",
    "top_indices, top_similarities = calculate_most_similar_documents(document_index, similarities, 15)\n",
    "display_most_similar_documents(document_index, top_indices, top_similarities, job_summary_list)"
   ]
  },
  {
   "cell_type": "markdown",
   "metadata": {},
   "source": [
    "### PCA"
   ]
  },
  {
   "cell_type": "code",
   "execution_count": 10,
   "metadata": {
    "ExecuteTime": {
     "end_time": "2019-03-10T07:13:29.123676Z",
     "start_time": "2019-03-10T07:13:28.823866Z"
    }
   },
   "outputs": [
    {
     "data": {
      "image/png": "[encoded data removed]",
      "text/plain": [
       "<Figure size 432x288 with 2 Axes>"
      ]
     },
     "metadata": {
      "needs_background": "light"
     },
     "output_type": "display_data"
    }
   ],
   "source": [
    "pcs, pca_model = calculate_principal_components(X)\n",
    "plot_value_and_cumulative_value(pca_model.explained_variance_ratio_)"
   ]
  },
  {
   "cell_type": "markdown",
   "metadata": {},
   "source": [
    "### MDS"
   ]
  },
  {
   "cell_type": "code",
   "execution_count": 11,
   "metadata": {
    "ExecuteTime": {
     "end_time": "2019-03-10T07:13:29.206517Z",
     "start_time": "2019-03-10T07:13:29.125637Z"
    }
   },
   "outputs": [],
   "source": [
    "## Works but takes lot of time\n",
    "# distances = 1 - similarities\n",
    "# x,y = calculate_mds_vectors(distances)\n",
    "# plot_mds(x,y, clusters, job_summary_list)"
   ]
  },
  {
   "cell_type": "markdown",
   "metadata": {},
   "source": [
    "### Outlier detection"
   ]
  },
  {
   "cell_type": "code",
   "execution_count": 12,
   "metadata": {
    "ExecuteTime": {
     "end_time": "2019-03-10T07:13:29.965495Z",
     "start_time": "2019-03-10T07:13:29.206517Z"
    }
   },
   "outputs": [
    {
     "name": "stderr",
     "output_type": "stream",
     "text": [
      "/home/ossi/Repos/Personal/job_advertisement_analysis/venv/lib/python3.6/site-packages/sklearn/ensemble/iforest.py:213: FutureWarning: default contamination parameter 0.1 will change in version 0.22 to \"auto\". This will change the predict method behavior.\n",
      "  FutureWarning)\n",
      "/home/ossi/Repos/Personal/job_advertisement_analysis/venv/lib/python3.6/site-packages/sklearn/ensemble/iforest.py:223: FutureWarning: behaviour=\"old\" is deprecated and will be removed in version 0.22. Please use behaviour=\"new\", which makes the decision_function change to match other anomaly detection algorithm API.\n",
      "  FutureWarning)\n"
     ]
    }
   ],
   "source": [
    "rng = np.random.RandomState(42)\n",
    "clf = IsolationForest(random_state=rng)\n",
    "clf.fit(X)\n",
    "scores = clf.decision_function(X)"
   ]
  },
  {
   "cell_type": "code",
   "execution_count": 13,
   "metadata": {
    "ExecuteTime": {
     "end_time": "2019-03-10T07:13:30.226597Z",
     "start_time": "2019-03-10T07:13:29.965495Z"
    }
   },
   "outputs": [
    {
     "name": "stdout",
     "output_type": "stream",
     "text": [
      "Number of outliers detected: 22 (0.33 %)\n",
      "Outliers:\n",
      "Insurance Professional, Helsinki | Nordea | Helsinki\n",
      "Junior Cloud Engineer | aTalent FI | Helsinki\n",
      "Backend Engineer | Wolt | Helsinki\n",
      "Backend Software Developer | Smartly | Helsinki\n",
      "Credit Analyst, Helsinki | Nordea | Helsinki\n",
      "Backend Developers | Accenture | Helsinki\n",
      "Frontend / Fullstack Developer | Smartly | Helsinki\n",
      "Sales Manager | Insider | Helsinki\n",
      "IT Service Manager, Helsinki | Nordea | Helsinki\n",
      "Financial Controller, Nordea Henkivakuutus Suomi, Helsinki | Nordea | Helsinki\n",
      "Front-End Developer, Nordea Life, Helsinki | Nordea | Helsinki\n",
      "Office (Finance & HR) Administrator | Digital Workforce | Helsinki\n",
      "Summer trainee in Tampere SW R&D | NOKIA | Tampere\n",
      "Senior/Lead Solution Engineer | Salesforce | Espoo\n",
      "Salesforce.com Consultants | Accenture | Helsinki\n",
      "Director of Project Management | ICEYE | Espoo\n",
      "Summer trainee in Helsinki SW R&D | NOKIA | Helsinki\n",
      "Product Owner, Helsinki | Nordea | Helsinki\n",
      "Junior SAS -Developers | Accenture | Helsinki\n",
      "Insurance Professional, Claims/Pension insurance handling, N... | Nordea | Helsinki\n",
      "Product Business Developer | Canon Oy | Helsinki\n",
      "Insurance Professional, Nordea Life, Finland | Nordea | Helsinki\n"
     ]
    },
    {
     "data": {
      "image/png": "[encoded data removed]",
      "text/plain": [
       "<Figure size 432x288 with 1 Axes>"
      ]
     },
     "metadata": {
      "needs_background": "light"
     },
     "output_type": "display_data"
    }
   ],
   "source": [
    "outlier_detection(scores, OUTLIER_DETECTION_TRESHOLD, job_summary_list)"
   ]
  },
  {
   "cell_type": "markdown",
   "metadata": {},
   "source": [
    "### Keyword extraction, summarization, tagging"
   ]
  },
  {
   "cell_type": "code",
   "execution_count": 14,
   "metadata": {
    "ExecuteTime": {
     "end_time": "2019-03-10T07:13:30.310320Z",
     "start_time": "2019-03-10T07:13:30.228577Z"
    }
   },
   "outputs": [
    {
     "name": "stdout",
     "output_type": "stream",
     "text": [
      "We are looking for Insurance Professional´s. You will meet our customers’ changing needs and offer them the best possible service.\n",
      "\n",
      "In today’s world, change is the one thing you can count on. But whatever the future brings, our customers remain at the heart of everything we do.\n",
      "\n",
      "That’s where you come in. Working with dedicated colleagues in an exciting, fast-paced environment, you’ll help meet our customers’ changing needs.\n",
      "\n",
      "We aim to be courageous and explorative in our approach to innovating better ways of delivering banking services – anytime, anywhere. This means you’ll have many opportunities to learn and grow as you build your career with us. Will you help us lead the way in creating great customer experiences?\n",
      "\n",
      "Your future responsibilities\n",
      "You will join Nordea Life´s Customer Services unit. Nordea Life is a subsidiary to Nordea. We offer life insurance solutions to private and corporate customers. Our mission is to integrate our products with those of Nordea bank and make life insurances more accessible for the customers.\n",
      "\n",
      "We are around 160 life business professionals. We continuously develop our way of working to be able to take customer satisfaction to the next level. We offer you an interesting and challenging position that enables you to show your potential and to grow professionall.\n",
      "\n",
      "Nordea Life is Great Place to Work® listed company in Finland 2017 and 2018. In the last survey 95 percent of our employees say their workplace is great.\n",
      "\n",
      "What you’ll be doing:\n",
      "\n",
      "Providing excellent customer service in different channels\n",
      "Showing flexibility and positive attitude in changing situations\n",
      "Making claim and pension decisions independently\n",
      "Making reconciliation independently\n",
      "Reporting to tax authorities\n",
      "Actively taking part in the process development and courage taking responsibility in all what you do\n",
      "The role is based in Helsinki and is a permanent position. Welcome to a unit of strongly customer focused people with deep knowledge and pride of our products and services. We expect you to have a positive mindset and active way of working.\n",
      "\n",
      "\n",
      "Who you are\n",
      "\n",
      "Collaboration. Ownership. Passion. Courage. These are the four key values that guide us in being at our best. We imagine that you enjoy learning and are excited about bringing your ideas to the table. You’re dependable, willing to speak up – even when it’s difficult – and committed to empowering others.\n",
      "\n",
      "To build a successful career with us, you’ll work well with others and always act with the customer’s needs in mind. You love learning new and you’re excited about bringing your ideas to the table. You’re honest and dependable, willing to speak up even when it’s difficult, and committed to empowering others. You’re passionate about doing a great job.\n",
      "\n",
      "Your profile and background:\n",
      "\n",
      "You have experience in customer service / claims handling processes\n",
      "You are interested in process development and process automation (RPA)\n",
      "You are an excellent team player and you spread positive team spirit around you\n",
      "You have Bachelor’s Degree\n",
      "You have professional skills in English, Swedish is an advantage\n",
      "SAFe knowledge and VTS (vakuutustutkinto ) are considered as an advantage\n",
      "If this sounds like you, get in touch!\n",
      "\n",
      "More information\n",
      "You have until 13th of July to send us your application.\n",
      "\n",
      "For more information about the position, you are welcome to contact Anu Kähkönen +358 503104656, email anu.kahkonen@nordea.com ( until 28 June) and Susanna Autio +358 503622158, email susanna.autio@nordea.com (until 13 July).\n",
      "\n",
      "\n",
      "At Nordea, we recruit from the widest possible pool and hire the best person for the job. Because diversity makes us stronger. And once you are on board, you will find that we offer equal opportunities to everyone.\n",
      "\n",
      "Great people often know great people – please share if you have a friend who could be a perfect match for this job.\n",
      "\n",
      "To all recruitment agencies: Please note, we don’t accept unsolicited resumes for any of our positions. All contact regarding agency resumes should be directed to Nordea Talent Acquisition which handles everything related to recruitment \n",
      "\n"
     ]
    }
   ],
   "source": [
    "document_index = 1\n",
    "test_document = documents[document_index]\n",
    "test_lemmas = lemmas[document_index]\n",
    "print(test_document, '\\n')"
   ]
  },
  {
   "cell_type": "code",
   "execution_count": 15,
   "metadata": {
    "ExecuteTime": {
     "end_time": "2019-03-10T07:13:30.411673Z",
     "start_time": "2019-03-10T07:13:30.312316Z"
    }
   },
   "outputs": [
    {
     "name": "stdout",
     "output_type": "stream",
     "text": [
      "Keywords:\n",
      "customer\n",
      "position\n",
      "positive\n",
      "nordea\n",
      "great\n",
      "service\n",
      "way\n",
      "offer\n",
      "job\n",
      "learn\n",
      "learning\n"
     ]
    }
   ],
   "source": [
    "keywords = keywords(' '.join(test_lemmas), ratio=0.05)\n",
    "print(f'Keywords:\\n{keywords}')"
   ]
  },
  {
   "cell_type": "code",
   "execution_count": 16,
   "metadata": {
    "ExecuteTime": {
     "end_time": "2019-03-10T07:13:30.502666Z",
     "start_time": "2019-03-10T07:13:30.413666Z"
    }
   },
   "outputs": [
    {
     "name": "stdout",
     "output_type": "stream",
     "text": [
      "You will meet our customers’ changing needs and offer them the best possible service.\n",
      "\n",
      "Working with dedicated colleagues in an exciting, fast-paced environment, you’ll help meet our customers’ changing needs.\n",
      "\n",
      "We offer life insurance solutions to private and corporate customers.\n",
      "\n",
      "Our mission is to integrate our products with those of Nordea bank and make life insurances more accessible for the customers.\n",
      "\n",
      "You have experience in customer service / claims handling processes\n",
      "\n"
     ]
    }
   ],
   "source": [
    "summary = summarize(test_document, split=True, ratio = 0.1)\n",
    "for s in summary: print(s + '\\n')"
   ]
  },
  {
   "cell_type": "markdown",
   "metadata": {},
   "source": [
    "## Topic modeling"
   ]
  },
  {
   "cell_type": "code",
   "execution_count": 17,
   "metadata": {},
   "outputs": [],
   "source": [
    "terms = tdidf_vectorizer.get_feature_names()"
   ]
  },
  {
   "cell_type": "markdown",
   "metadata": {},
   "source": [
    "### LDA"
   ]
  },
  {
   "cell_type": "code",
   "execution_count": 18,
   "metadata": {},
   "outputs": [],
   "source": [
    "model = LatentDirichletAllocation(n_components=20, \n",
    "                                  max_iter=10, \n",
    "                                  learning_method='online', \n",
    "                                  random_state=100, \n",
    "                                  batch_size=128, \n",
    "                                  evaluate_every = -1,\n",
    "                                  n_jobs = -1)\n",
    "topic_words, document_topics = topic_analysis(model, X, terms, 5, 5)"
   ]
  },
  {
   "cell_type": "code",
   "execution_count": 19,
   "metadata": {},
   "outputs": [],
   "source": [
    "top_document_topics = [i[0][1] for i in document_topics]\n",
    "topic_words = [[t[1] for t in i] for i in topic_words]"
   ]
  },
  {
   "cell_type": "code",
   "execution_count": 20,
   "metadata": {},
   "outputs": [
    {
     "data": {
      "text/plain": [
       "[(0.904332077073673, 4),\n",
       " (0.0050351539193724424, 10),\n",
       " (0.00503515389742237, 5),\n",
       " (0.005035153867223689, 14),\n",
       " (0.005035153833076131, 13)]"
      ]
     },
     "execution_count": 20,
     "metadata": {},
     "output_type": "execute_result"
    }
   ],
   "source": [
    "document_topics[0]"
   ]
  },
  {
   "cell_type": "code",
   "execution_count": 21,
   "metadata": {},
   "outputs": [],
   "source": [
    "topic_counts = Counter(top_document_topics)\n",
    "df_topic_counts = pd.DataFrame.from_dict(dict(topic_counts), orient='index', columns=['n_ads'])\n",
    "df_topic_words = pd.DataFrame(topic_words)\n",
    "df_summary = pd.merge(df_topic_words, df_topic_counts, left_index=True, right_index=True)"
   ]
  },
  {
   "cell_type": "code",
   "execution_count": 22,
   "metadata": {},
   "outputs": [
    {
     "data": {
      "text/html": [
       "<div>\n",
       "<style scoped>\n",
       "    .dataframe tbody tr th:only-of-type {\n",
       "        vertical-align: middle;\n",
       "    }\n",
       "\n",
       "    .dataframe tbody tr th {\n",
       "        vertical-align: top;\n",
       "    }\n",
       "\n",
       "    .dataframe thead th {\n",
       "        text-align: right;\n",
       "    }\n",
       "</style>\n",
       "<table border=\"1\" class=\"dataframe\">\n",
       "  <thead>\n",
       "    <tr style=\"text-align: right;\">\n",
       "      <th></th>\n",
       "      <th>0</th>\n",
       "      <th>1</th>\n",
       "      <th>2</th>\n",
       "      <th>3</th>\n",
       "      <th>4</th>\n",
       "      <th>n_ads</th>\n",
       "    </tr>\n",
       "  </thead>\n",
       "  <tbody>\n",
       "    <tr>\n",
       "      <th>4</th>\n",
       "      <td>tehtävä</td>\n",
       "      <td>työ</td>\n",
       "      <td>osata</td>\n",
       "      <td>hyvä</td>\n",
       "      <td>asiakas</td>\n",
       "      <td>2095</td>\n",
       "    </tr>\n",
       "    <tr>\n",
       "      <th>5</th>\n",
       "      <td>tuleva</td>\n",
       "      <td>oma</td>\n",
       "      <td>vuo</td>\n",
       "      <td>esim</td>\n",
       "      <td>tämä</td>\n",
       "      <td>37</td>\n",
       "    </tr>\n",
       "    <tr>\n",
       "      <th>10</th>\n",
       "      <td>team</td>\n",
       "      <td>experience</td>\n",
       "      <td>work</td>\n",
       "      <td>customer</td>\n",
       "      <td>development</td>\n",
       "      <td>4378</td>\n",
       "    </tr>\n",
       "    <tr>\n",
       "      <th>13</th>\n",
       "      <td>university</td>\n",
       "      <td>research</td>\n",
       "      <td>aalto</td>\n",
       "      <td>aalto university</td>\n",
       "      <td>professor</td>\n",
       "      <td>149</td>\n",
       "    </tr>\n",
       "  </tbody>\n",
       "</table>\n",
       "</div>"
      ],
      "text/plain": [
       "             0           1      2                 3            4  n_ads\n",
       "4      tehtävä         työ  osata              hyvä      asiakas   2095\n",
       "5       tuleva         oma    vuo              esim         tämä     37\n",
       "10        team  experience   work          customer  development   4378\n",
       "13  university    research  aalto  aalto university    professor    149"
      ]
     },
     "execution_count": 22,
     "metadata": {},
     "output_type": "execute_result"
    }
   ],
   "source": [
    "df_summary"
   ]
  },
  {
   "cell_type": "code",
   "execution_count": 23,
   "metadata": {},
   "outputs": [],
   "source": [
    "df_data['main_topic'] = top_document_topics"
   ]
  },
  {
   "cell_type": "code",
   "execution_count": 24,
   "metadata": {},
   "outputs": [
    {
     "data": {
      "text/html": [
       "<div>\n",
       "<style scoped>\n",
       "    .dataframe tbody tr th:only-of-type {\n",
       "        vertical-align: middle;\n",
       "    }\n",
       "\n",
       "    .dataframe tbody tr th {\n",
       "        vertical-align: top;\n",
       "    }\n",
       "\n",
       "    .dataframe thead th {\n",
       "        text-align: right;\n",
       "    }\n",
       "</style>\n",
       "<table border=\"1\" class=\"dataframe\">\n",
       "  <thead>\n",
       "    <tr style=\"text-align: right;\">\n",
       "      <th></th>\n",
       "      <th>id</th>\n",
       "      <th>categories__name</th>\n",
       "      <th>date_published</th>\n",
       "      <th>employer__name</th>\n",
       "      <th>is_active</th>\n",
       "      <th>job_description</th>\n",
       "      <th>job_title__name</th>\n",
       "      <th>location__name</th>\n",
       "      <th>location__population</th>\n",
       "      <th>pages__name</th>\n",
       "      <th>language</th>\n",
       "      <th>job_summary</th>\n",
       "      <th>main_topic</th>\n",
       "    </tr>\n",
       "  </thead>\n",
       "  <tbody>\n",
       "  </tbody>\n",
       "</table>\n",
       "</div>"
      ],
      "text/plain": [
       "Empty DataFrame\n",
       "Columns: [id, categories__name, date_published, employer__name, is_active, job_description, job_title__name, location__name, location__population, pages__name, language, job_summary, main_topic]\n",
       "Index: []"
      ]
     },
     "execution_count": 24,
     "metadata": {},
     "output_type": "execute_result"
    }
   ],
   "source": [
    "df_data[df_data['main_topic'] == 0].head()"
   ]
  },
  {
   "cell_type": "markdown",
   "metadata": {},
   "source": [
    "### LSA"
   ]
  },
  {
   "cell_type": "code",
   "execution_count": 25,
   "metadata": {},
   "outputs": [],
   "source": [
    "model = TruncatedSVD(n_components=N_TOPICS,\n",
    "                     algorithm='randomized',\n",
    "                     n_iter=10)\n",
    "topic_words, document_topics = topic_analysis(model, X, terms, 5, 5)"
   ]
  },
  {
   "cell_type": "code",
   "execution_count": 26,
   "metadata": {},
   "outputs": [],
   "source": [
    "top_document_topics = [i[0][1] for i in document_topics]\n",
    "topic_words = [[t[1] for t in i] for i in topic_words]"
   ]
  },
  {
   "cell_type": "code",
   "execution_count": 27,
   "metadata": {},
   "outputs": [],
   "source": [
    "topic_counts = Counter(top_document_topics)\n",
    "df_topic_counts = pd.DataFrame.from_dict(dict(topic_counts), orient='index', columns=['n_ads'])\n",
    "df_topic_words = pd.DataFrame(topic_words)\n",
    "df_summary = pd.merge(df_topic_words, df_topic_counts, left_index=True, right_index=True)"
   ]
  },
  {
   "cell_type": "code",
   "execution_count": 28,
   "metadata": {},
   "outputs": [
    {
     "data": {
      "text/html": [
       "<div>\n",
       "<style scoped>\n",
       "    .dataframe tbody tr th:only-of-type {\n",
       "        vertical-align: middle;\n",
       "    }\n",
       "\n",
       "    .dataframe tbody tr th {\n",
       "        vertical-align: top;\n",
       "    }\n",
       "\n",
       "    .dataframe thead th {\n",
       "        text-align: right;\n",
       "    }\n",
       "</style>\n",
       "<table border=\"1\" class=\"dataframe\">\n",
       "  <thead>\n",
       "    <tr style=\"text-align: right;\">\n",
       "      <th></th>\n",
       "      <th>0</th>\n",
       "      <th>1</th>\n",
       "      <th>2</th>\n",
       "      <th>3</th>\n",
       "      <th>4</th>\n",
       "      <th>n_ads</th>\n",
       "    </tr>\n",
       "  </thead>\n",
       "  <tbody>\n",
       "    <tr>\n",
       "      <th>0</th>\n",
       "      <td>team</td>\n",
       "      <td>experience</td>\n",
       "      <td>work</td>\n",
       "      <td>customer</td>\n",
       "      <td>development</td>\n",
       "      <td>3966</td>\n",
       "    </tr>\n",
       "    <tr>\n",
       "      <th>1</th>\n",
       "      <td>tehtävä</td>\n",
       "      <td>työ</td>\n",
       "      <td>osata</td>\n",
       "      <td>hyvä</td>\n",
       "      <td>asiakas</td>\n",
       "      <td>2102</td>\n",
       "    </tr>\n",
       "    <tr>\n",
       "      <th>2</th>\n",
       "      <td>university</td>\n",
       "      <td>research</td>\n",
       "      <td>aalto</td>\n",
       "      <td>aalto university</td>\n",
       "      <td>professor</td>\n",
       "      <td>229</td>\n",
       "    </tr>\n",
       "    <tr>\n",
       "      <th>3</th>\n",
       "      <td>sale</td>\n",
       "      <td>business</td>\n",
       "      <td>customer</td>\n",
       "      <td>management</td>\n",
       "      <td>marketing</td>\n",
       "      <td>5</td>\n",
       "    </tr>\n",
       "    <tr>\n",
       "      <th>4</th>\n",
       "      <td>game</td>\n",
       "      <td>data</td>\n",
       "      <td>gaming</td>\n",
       "      <td>studio</td>\n",
       "      <td>get</td>\n",
       "      <td>85</td>\n",
       "    </tr>\n",
       "    <tr>\n",
       "      <th>5</th>\n",
       "      <td>data</td>\n",
       "      <td>game</td>\n",
       "      <td>nokia</td>\n",
       "      <td>status</td>\n",
       "      <td>analytics</td>\n",
       "      <td>104</td>\n",
       "    </tr>\n",
       "    <tr>\n",
       "      <th>7</th>\n",
       "      <td>data</td>\n",
       "      <td>academic work</td>\n",
       "      <td>academic</td>\n",
       "      <td>client</td>\n",
       "      <td>hakuprosessi</td>\n",
       "      <td>1</td>\n",
       "    </tr>\n",
       "    <tr>\n",
       "      <th>10</th>\n",
       "      <td>php</td>\n",
       "      <td>java</td>\n",
       "      <td>agency</td>\n",
       "      <td>ltd</td>\n",
       "      <td>client</td>\n",
       "      <td>82</td>\n",
       "    </tr>\n",
       "    <tr>\n",
       "      <th>13</th>\n",
       "      <td>test</td>\n",
       "      <td>security</td>\n",
       "      <td>client</td>\n",
       "      <td>automation</td>\n",
       "      <td>digital</td>\n",
       "      <td>3</td>\n",
       "    </tr>\n",
       "    <tr>\n",
       "      <th>14</th>\n",
       "      <td>sale</td>\n",
       "      <td>client</td>\n",
       "      <td>marketing</td>\n",
       "      <td>test</td>\n",
       "      <td>microsoft</td>\n",
       "      <td>23</td>\n",
       "    </tr>\n",
       "    <tr>\n",
       "      <th>16</th>\n",
       "      <td>security</td>\n",
       "      <td>cyber</td>\n",
       "      <td>cyber security</td>\n",
       "      <td>healthcare</td>\n",
       "      <td>product</td>\n",
       "      <td>8</td>\n",
       "    </tr>\n",
       "    <tr>\n",
       "      <th>17</th>\n",
       "      <td>healthcare</td>\n",
       "      <td>medical</td>\n",
       "      <td>työ</td>\n",
       "      <td>patient</td>\n",
       "      <td>clinical</td>\n",
       "      <td>31</td>\n",
       "    </tr>\n",
       "    <tr>\n",
       "      <th>18</th>\n",
       "      <td>tieto</td>\n",
       "      <td>tuleva</td>\n",
       "      <td>solution</td>\n",
       "      <td>tehtävä</td>\n",
       "      <td>järjestelmä</td>\n",
       "      <td>20</td>\n",
       "    </tr>\n",
       "  </tbody>\n",
       "</table>\n",
       "</div>"
      ],
      "text/plain": [
       "             0              1               2                 3             4  \\\n",
       "0         team     experience            work          customer   development   \n",
       "1      tehtävä            työ           osata              hyvä       asiakas   \n",
       "2   university       research           aalto  aalto university     professor   \n",
       "3         sale       business        customer        management     marketing   \n",
       "4         game           data          gaming            studio           get   \n",
       "5         data           game           nokia            status     analytics   \n",
       "7         data  academic work        academic            client  hakuprosessi   \n",
       "10         php           java          agency               ltd        client   \n",
       "13        test       security          client        automation       digital   \n",
       "14        sale         client       marketing              test     microsoft   \n",
       "16    security          cyber  cyber security        healthcare       product   \n",
       "17  healthcare        medical             työ           patient      clinical   \n",
       "18       tieto         tuleva        solution           tehtävä   järjestelmä   \n",
       "\n",
       "    n_ads  \n",
       "0    3966  \n",
       "1    2102  \n",
       "2     229  \n",
       "3       5  \n",
       "4      85  \n",
       "5     104  \n",
       "7       1  \n",
       "10     82  \n",
       "13      3  \n",
       "14     23  \n",
       "16      8  \n",
       "17     31  \n",
       "18     20  "
      ]
     },
     "execution_count": 28,
     "metadata": {},
     "output_type": "execute_result"
    }
   ],
   "source": [
    "df_summary"
   ]
  },
  {
   "cell_type": "code",
   "execution_count": 29,
   "metadata": {},
   "outputs": [],
   "source": [
    "df_data['main_topic'] = top_document_topics"
   ]
  },
  {
   "cell_type": "code",
   "execution_count": 37,
   "metadata": {},
   "outputs": [
    {
     "data": {
      "text/html": [
       "<div>\n",
       "<style scoped>\n",
       "    .dataframe tbody tr th:only-of-type {\n",
       "        vertical-align: middle;\n",
       "    }\n",
       "\n",
       "    .dataframe tbody tr th {\n",
       "        vertical-align: top;\n",
       "    }\n",
       "\n",
       "    .dataframe thead th {\n",
       "        text-align: right;\n",
       "    }\n",
       "</style>\n",
       "<table border=\"1\" class=\"dataframe\">\n",
       "  <thead>\n",
       "    <tr style=\"text-align: right;\">\n",
       "      <th></th>\n",
       "      <th>id</th>\n",
       "      <th>categories__name</th>\n",
       "      <th>date_published</th>\n",
       "      <th>employer__name</th>\n",
       "      <th>is_active</th>\n",
       "      <th>job_description</th>\n",
       "      <th>job_title__name</th>\n",
       "      <th>location__name</th>\n",
       "      <th>location__population</th>\n",
       "      <th>pages__name</th>\n",
       "      <th>language</th>\n",
       "      <th>job_summary</th>\n",
       "      <th>main_topic</th>\n",
       "    </tr>\n",
       "  </thead>\n",
       "  <tbody>\n",
       "    <tr>\n",
       "      <th>155</th>\n",
       "      <td>159</td>\n",
       "      <td>[python, data science]</td>\n",
       "      <td>2018-05-31</td>\n",
       "      <td>Aalto-yliopisto</td>\n",
       "      <td>False</td>\n",
       "      <td>Aalto University is a community of bold thinke...</td>\n",
       "      <td>Postdoctoral Researcher (fixed term) in the ar...</td>\n",
       "      <td>Espoo</td>\n",
       "      <td>280247.0</td>\n",
       "      <td>Indeed</td>\n",
       "      <td>en</td>\n",
       "      <td>Postdoctoral Researcher (fixed term) in the ar...</td>\n",
       "      <td>2</td>\n",
       "    </tr>\n",
       "    <tr>\n",
       "      <th>156</th>\n",
       "      <td>160</td>\n",
       "      <td>[python, data science]</td>\n",
       "      <td>2018-05-31</td>\n",
       "      <td>Aalto University</td>\n",
       "      <td>False</td>\n",
       "      <td>Aalto University is a community of bold thinke...</td>\n",
       "      <td>Postdoctoral Researcher (fixed term) in the ar...</td>\n",
       "      <td>Helsinki</td>\n",
       "      <td>645482.0</td>\n",
       "      <td>Indeed</td>\n",
       "      <td>en</td>\n",
       "      <td>Postdoctoral Researcher (fixed term) in the ar...</td>\n",
       "      <td>2</td>\n",
       "    </tr>\n",
       "    <tr>\n",
       "      <th>163</th>\n",
       "      <td>167</td>\n",
       "      <td>python</td>\n",
       "      <td>2018-05-24</td>\n",
       "      <td>Helsingin yliopiston</td>\n",
       "      <td>False</td>\n",
       "      <td>Helsinki Institute of Life Science, HiLIFE, is...</td>\n",
       "      <td>Computational Biologist / Bioinformatician</td>\n",
       "      <td>Helsinki</td>\n",
       "      <td>645482.0</td>\n",
       "      <td>Indeed</td>\n",
       "      <td>en</td>\n",
       "      <td>Computational Biologist / Bioinformatician | H...</td>\n",
       "      <td>2</td>\n",
       "    </tr>\n",
       "    <tr>\n",
       "      <th>264</th>\n",
       "      <td>268</td>\n",
       "      <td>[data science, artificial intelligence]</td>\n",
       "      <td>2018-05-23</td>\n",
       "      <td>Aalto University</td>\n",
       "      <td>False</td>\n",
       "      <td>We are looking for a postdoctoral researcher w...</td>\n",
       "      <td>Postdoctoral Researcher in machine learning fo...</td>\n",
       "      <td>Helsinki</td>\n",
       "      <td>645482.0</td>\n",
       "      <td>Indeed</td>\n",
       "      <td>en</td>\n",
       "      <td>Postdoctoral Researcher in machine learning fo...</td>\n",
       "      <td>2</td>\n",
       "    </tr>\n",
       "    <tr>\n",
       "      <th>268</th>\n",
       "      <td>272</td>\n",
       "      <td>artificial intelligence</td>\n",
       "      <td>2018-05-23</td>\n",
       "      <td>Aalto University</td>\n",
       "      <td>False</td>\n",
       "      <td>** Application deadline June 30, 2018. Applica...</td>\n",
       "      <td>Postdoctoral Researcher in Computational HCI</td>\n",
       "      <td>Helsinki</td>\n",
       "      <td>645482.0</td>\n",
       "      <td>Indeed</td>\n",
       "      <td>en</td>\n",
       "      <td>Postdoctoral Researcher in Computational HCI |...</td>\n",
       "      <td>2</td>\n",
       "    </tr>\n",
       "  </tbody>\n",
       "</table>\n",
       "</div>"
      ],
      "text/plain": [
       "      id                         categories__name date_published  \\\n",
       "155  159                   [python, data science]     2018-05-31   \n",
       "156  160                   [python, data science]     2018-05-31   \n",
       "163  167                                   python     2018-05-24   \n",
       "264  268  [data science, artificial intelligence]     2018-05-23   \n",
       "268  272                  artificial intelligence     2018-05-23   \n",
       "\n",
       "           employer__name  is_active  \\\n",
       "155       Aalto-yliopisto      False   \n",
       "156      Aalto University      False   \n",
       "163  Helsingin yliopiston      False   \n",
       "264      Aalto University      False   \n",
       "268      Aalto University      False   \n",
       "\n",
       "                                       job_description  \\\n",
       "155  Aalto University is a community of bold thinke...   \n",
       "156  Aalto University is a community of bold thinke...   \n",
       "163  Helsinki Institute of Life Science, HiLIFE, is...   \n",
       "264  We are looking for a postdoctoral researcher w...   \n",
       "268  ** Application deadline June 30, 2018. Applica...   \n",
       "\n",
       "                                       job_title__name location__name  \\\n",
       "155  Postdoctoral Researcher (fixed term) in the ar...          Espoo   \n",
       "156  Postdoctoral Researcher (fixed term) in the ar...       Helsinki   \n",
       "163         Computational Biologist / Bioinformatician       Helsinki   \n",
       "264  Postdoctoral Researcher in machine learning fo...       Helsinki   \n",
       "268       Postdoctoral Researcher in Computational HCI       Helsinki   \n",
       "\n",
       "     location__population pages__name language  \\\n",
       "155              280247.0      Indeed       en   \n",
       "156              645482.0      Indeed       en   \n",
       "163              645482.0      Indeed       en   \n",
       "264              645482.0      Indeed       en   \n",
       "268              645482.0      Indeed       en   \n",
       "\n",
       "                                           job_summary  main_topic  \n",
       "155  Postdoctoral Researcher (fixed term) in the ar...           2  \n",
       "156  Postdoctoral Researcher (fixed term) in the ar...           2  \n",
       "163  Computational Biologist / Bioinformatician | H...           2  \n",
       "264  Postdoctoral Researcher in machine learning fo...           2  \n",
       "268  Postdoctoral Researcher in Computational HCI |...           2  "
      ]
     },
     "execution_count": 37,
     "metadata": {},
     "output_type": "execute_result"
    }
   ],
   "source": [
    "df_data[df_data['main_topic'] == 2].head()"
   ]
  },
  {
   "cell_type": "markdown",
   "metadata": {},
   "source": [
    "### Experiment: show text with highlited topics"
   ]
  },
  {
   "cell_type": "code",
   "execution_count": 31,
   "metadata": {},
   "outputs": [],
   "source": [
    "from nltk import word_tokenize, WordNetLemmatizer\n",
    "test_document_index = 155"
   ]
  },
  {
   "cell_type": "code",
   "execution_count": 32,
   "metadata": {},
   "outputs": [],
   "source": [
    "test_document_text = documents[test_document_index]\n",
    "tokens = word_tokenize(test_document_text)"
   ]
  },
  {
   "cell_type": "code",
   "execution_count": 33,
   "metadata": {
    "scrolled": true
   },
   "outputs": [],
   "source": [
    "def find_word_topics(word, df_topic_words):\n",
    "    return df_topic_words[df_topic_words == word].dropna(thresh=1).index.tolist()"
   ]
  },
  {
   "cell_type": "code",
   "execution_count": 34,
   "metadata": {},
   "outputs": [],
   "source": [
    "tokens_processed = []\n",
    "for token in tokens:\n",
    "    lemma = WordNetLemmatizer().lemmatize(token)\n",
    "    topic = find_word_topics(lemma, df_topic_words)\n",
    "    if topic:\n",
    "        token = f'<font color=\"red\">{token}{topic}</font>'\n",
    "    tokens_processed.append(token)"
   ]
  },
  {
   "cell_type": "code",
   "execution_count": 35,
   "metadata": {},
   "outputs": [],
   "source": [
    "text_processed = ' '.join(tokens_processed)"
   ]
  },
  {
   "cell_type": "code",
   "execution_count": 36,
   "metadata": {
    "scrolled": true
   },
   "outputs": [
    {
     "data": {
      "text/html": [
       "Aalto University is a community of bold thinkers where science and art meet technology and <font color=\"red\">business[3]</font> . We are committed to identifying and solving grand societal challenges and building an innovative future . Aalto University has six schools with nearly 11 000 students and nearly 400 <font color=\"red\">professors[2]</font> . The campus of the School of Science is located on the Otaniemi peninsula in Espoo within the metropolitan area of Helsinki . The Department of Applied Physics ( http : //physics.aalto.fi ) at the School of Science is seeking a Postdoctoral Researcher ( fixed term ) in the area of edge-plasma physics in magnetic fusion energy devices to the Fusion and Plasma Physics Group ( http : //physics.aalto.fi/en/groups/fusion/ ) . The group focuses on experimental and computational plasma physics in magnetically confined fusion experiments . The primary objective of the posted <font color=\"red\">position[11]</font> is improved understanding of the physics of the tokamak edge plasma for controlling power exhaust and plasma-wall interaction in ITER and future burning plasma . Job description The successful candidate will be utilising existing , state-of-the-art edge codes , like EDGE2D-EIRENE and SOLPS-ITER to interpret measurements taken in present tokamak devices , such as JET , ASDEX Upgrade and DIII-D. Development and implementation of new physics models in these computational tools will be carried out in close collaboration with the theory and modelling <font color=\"red\">teams[0]</font> at these devices . The main objective of the project is to elucidate the physics in radiative power exhaust scenarios and extrapolate the results toward the next-step devices JT60-SA and ITER . The successful candidate will be participating in on-going and planned experiments by interpreting experimental results using the aforementioned edge codes . She or he is expected to train other members of the <font color=\"red\">research[2]</font> <font color=\"red\">team[0]</font> and to instruct students at Bachelor ’ s through and PhD level . Documentation and publication of the <font color=\"red\">research[2]</font> results in peer-reviewed scientific or technical journals and present results at external conferences , seminars and/or technical meetings are anticipated . The successful candidate is encouraged to pursue independent , but complementary <font color=\"red\">research[2]</font> interests and interact with a broad spectrum of scientists both internally and externally . Requirements As a successful candidate for this <font color=\"red\">position[11]</font> , you should have : PhD degree in plasma physics or closely related field of science Experience in computational physics , in particular in high-performance computing Experience in carrying out independent <font color=\"red\">research[2]</font> and working in a <font color=\"red\">team[0]</font> environment to achieve programmatic goals in a timely fashion Strong publication record in peer-reviewed literature and <font color=\"red\">experience[0]</font> in presenting <font color=\"red\">research[2]</font> results to a large audience Good verbal and written communication skills in English are necessary to <font color=\"red\">work[0, 11]</font> in a multidisciplinary <font color=\"red\">team[0]</font> environment , author technical and scientific reports and publications , and deliver scientific presentations Skills , knowledge and abilities in the following areas are highly desirable : Knowledge of edge plasma physics in fusion devices Experience in programming languages , such as Fortran and C Experience with <font color=\"red\">data[4, 5, 7, 9]</font> analysis programming languages , such as Python and IDL Experience with large edge plasma codes , e.g. , SOLPS , EDGE2D Familiarity with edge plasma diagnostic techniques , and atomic and molecular physics Knowledge of tokamak operation and interpretation of experimental <font color=\"red\">data[4, 5, 7, 9]</font> Experience collaborating with theorists and plasma modelers The primary language of communication within the Fusion and Plasma Physics Group is English . Duration and salary The fixed term contract is initially for two years , and can , if mutually agreed , be extended for up to four years . The annual workload of <font color=\"red\">research[2]</font> and teaching staff at Aalto University is 1624 hours . Aalto University follows the salary system of Finnish <font color=\"red\">universities[2]</font> and we provide them upon request . The contract includes Aalto University occupational <font color=\"red\">healthcare[11, 16, 17]</font> . The <font color=\"red\">position[11]</font> will be located at the Otaniemi Campus of Aalto University and will involve extensive collaboration and possible international assignment/s to experimental facilities in the UK , Germany and elsewhere . Longer-term assignments to these facilities may be discussed at the time of recruitment . For more Information For additional information , <font color=\"red\">please[11]</font> contact the head of the <font color=\"red\">research[2]</font> group , Professor Mathias Groth , tel . +358 50 3640 495 , or for recruitment-process related questions HR-coordinator Stefan Ehrstedt , tel . +358 50 340 7662 . E-mails : firstname.lastname @ aalto.fi . Applying Please send your application at earliest convenience to the Aalto University recruitment system , by July 6 , 2018 . To apply for the <font color=\"red\">position[11]</font> , <font color=\"red\">please[11]</font> submit your application including the attachementioned mentioned below as one single PDF document in English through the link `` Apply for this job '' at the bottom of this page . Letter of motivation ( max . one A4 ) CV ( max . two A4s ) , including references Copy of PhD degree and English version of transcript of completed PhD and M.Sc . courses List of publications Aalto University reserves the right for justified reasons to leave the <font color=\"red\">position[11]</font> open , to extend the application period and to consider also candidates who have not submitted applications during the application period . Espoo , May 23 , 2018 Aalto University Living up to our values As a community of high ethics we want to assure the highest international standard in <font color=\"red\">research[2]</font> , education and teaching . We expect all our community members to respect Aalto values and follow the ethical principles of fair play and integrity in all our activities and the behaviour that we expect from each other . The Aalto University Code of Conduct is applicable to all Aalto community members and it clarifies the values that guide us . Hae tätä paikkaa"
      ],
      "text/plain": [
       "<IPython.core.display.HTML object>"
      ]
     },
     "metadata": {},
     "output_type": "display_data"
    },
    {
     "name": "stdout",
     "output_type": "stream",
     "text": [
      "Document topics\n",
      " Topic 2: 0.59 x ['university', 'research', 'aalto', 'aalto university', 'professor']\n",
      " Topic 0: 0.27 x ['team', 'experience', 'work', 'customer', 'development']\n",
      " Topic 14: 0.06 x ['sale', 'client', 'marketing', 'test', 'microsoft']\n",
      " Topic 13: 0.06 x ['test', 'security', 'client', 'automation', 'digital']\n",
      " Topic 4: 0.04 x ['game', 'data', 'gaming', 'studio', 'get']\n"
     ]
    }
   ],
   "source": [
    "from IPython.core.display import display, HTML\n",
    "display(HTML(text_processed))\n",
    "\n",
    "print('Document topics')\n",
    "test_document_topics = document_topics[test_document_index]\n",
    "for (weight, topic_index) in test_document_topics:\n",
    "    words = topic_words[topic_index]\n",
    "    print(f' Topic {topic_index}: {round(weight,2)} x {words}')"
   ]
  }
 ],
 "metadata": {
  "kernelspec": {
   "display_name": "venv",
   "language": "python",
   "name": "venv"
  },
  "language_info": {
   "codemirror_mode": {
    "name": "ipython",
    "version": 3
   },
   "file_extension": ".py",
   "mimetype": "text/x-python",
   "name": "python",
   "nbconvert_exporter": "python",
   "pygments_lexer": "ipython3",
   "version": "3.6.7"
  },
  "varInspector": {
   "cols": {
    "lenName": 16,
    "lenType": 16,
    "lenVar": 40
   },
   "kernels_config": {
    "python": {
     "delete_cmd_postfix": "",
     "delete_cmd_prefix": "del ",
     "library": "var_list.py",
     "varRefreshCmd": "print(var_dic_list())"
    },
    "r": {
     "delete_cmd_postfix": ") ",
     "delete_cmd_prefix": "rm(",
     "library": "var_list.r",
     "varRefreshCmd": "cat(var_dic_list()) "
    }
   },
   "types_to_exclude": [
    "module",
    "function",
    "builtin_function_or_method",
    "instance",
    "_Feature"
   ],
   "window_display": false
  }
 },
 "nbformat": 4,
 "nbformat_minor": 2
}
