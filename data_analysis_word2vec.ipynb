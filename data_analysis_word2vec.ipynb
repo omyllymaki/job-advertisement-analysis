{
 "cells": [
  {
   "cell_type": "markdown",
   "metadata": {},
   "source": [
    "# ANALYSIS"
   ]
  },
  {
   "cell_type": "code",
   "execution_count": 1,
   "metadata": {
    "ExecuteTime": {
     "end_time": "2019-03-10T07:12:18.134901Z",
     "start_time": "2019-03-10T07:12:18.095009Z"
    }
   },
   "outputs": [],
   "source": [
    "%load_ext autoreload\n",
    "%autoreload 2"
   ]
  },
  {
   "cell_type": "code",
   "execution_count": 2,
   "metadata": {
    "ExecuteTime": {
     "end_time": "2019-03-10T07:12:20.878774Z",
     "start_time": "2019-03-10T07:12:18.136896Z"
    }
   },
   "outputs": [],
   "source": [
    "from sklearn.ensemble import IsolationForest\n",
    "from gensim.summarization import keywords\n",
    "from gensim.summarization import summarize\n",
    "from analysis import *\n",
    "from cluster_analysis import *\n",
    "from dimension_reduction import *\n",
    "from plotting import *\n",
    "from result_print import *\n",
    "from outlier_detection import *\n",
    "from topic_modeling import *\n",
    "from utils import save_pickle_file, load_pickle_file\n",
    "from constants import PROCESSED_DATA_PATH, WORD2VEC_MODEL_PATH, BOW_MODEL_PATH"
   ]
  },
  {
   "cell_type": "code",
   "execution_count": 3,
   "metadata": {
    "ExecuteTime": {
     "end_time": "2019-03-10T07:12:20.956166Z",
     "start_time": "2019-03-10T07:12:20.878774Z"
    }
   },
   "outputs": [],
   "source": [
    "MAX_DISTANCE = 60\n",
    "OUTLIER_DETECTION_TRESHOLD = 1.4826*3"
   ]
  },
  {
   "cell_type": "markdown",
   "metadata": {},
   "source": [
    "## Load data"
   ]
  },
  {
   "cell_type": "code",
   "execution_count": 4,
   "metadata": {
    "ExecuteTime": {
     "end_time": "2019-03-10T07:12:21.154863Z",
     "start_time": "2019-03-10T07:12:20.960154Z"
    }
   },
   "outputs": [],
   "source": [
    "model_data = load_pickle_file(WORD2VEC_MODEL_PATH)\n",
    "X = model_data['X']\n",
    "model = model_data['model']"
   ]
  },
  {
   "cell_type": "code",
   "execution_count": 5,
   "metadata": {
    "ExecuteTime": {
     "end_time": "2019-03-10T07:12:21.843982Z",
     "start_time": "2019-03-10T07:12:21.157628Z"
    }
   },
   "outputs": [],
   "source": [
    "processed_data = load_pickle_file(PROCESSED_DATA_PATH)\n",
    "job_summary_list = processed_data['job_summary_list']\n",
    "documents = processed_data['documents']\n",
    "lemmas = processed_data['lemmas']"
   ]
  },
  {
   "cell_type": "markdown",
   "metadata": {},
   "source": [
    "\n",
    "## Analysis"
   ]
  },
  {
   "cell_type": "markdown",
   "metadata": {
    "collapsed": true
   },
   "source": [
    "### Cluster analysis"
   ]
  },
  {
   "cell_type": "code",
   "execution_count": 6,
   "metadata": {
    "ExecuteTime": {
     "end_time": "2019-03-10T07:13:28.546571Z",
     "start_time": "2019-03-10T07:12:21.845978Z"
    }
   },
   "outputs": [
    {
     "name": "stdout",
     "output_type": "stream",
     "text": [
      "Cluster 1\n",
      "Job ads: 10\n",
      "Senior Python Developer | Pearson Frank | Tampere\n",
      "Senior Python Developer - Helsinki | Pearson Frank | Helsinki\n",
      "Ohjelmistokehittäjä | CGI | Helsinki\n",
      "DevOps kehittäjiä | Bittium | Oulu\n",
      "AI Technical Lead | Bittium Wireless Oy | Oulu\n",
      "...\n",
      "\n",
      "Cluster 2\n",
      "Job ads: 36\n",
      "Junior RPA Developer | Tieto Corporation | Helsinki\n",
      "Full Stack Developer | CGI | Tampere\n",
      "Full Stack Developer | CGI Suomi | Tampere\n",
      "Senior Python in - house Developer - Helsinki | Pearson Frank | Helsinki\n",
      "Data Scientist (finnish) | CGI | Helsinki\n",
      "...\n",
      "\n",
      "Cluster 3\n",
      "Job ads: 1255\n",
      "Testausautomaation ja RPA:n asiantuntija | Veikkaus Oy | Helsinki\n",
      "Testausautomaation ja RPA:n asiantuntija | Raha-Automaattiyhdistys (Ray) | Helsinki\n",
      "Junior RPA Developer | Tieto Finland Oy | Espoo\n",
      "Ohjelmistokehittäjiä Helsinkiin, Tampereelle ja Turkuun | Vincit | Helsinki\n",
      "Ohjelmistosuunnittelija | KTC Finland Oy | Helsinki\n",
      "...\n",
      "\n",
      "Cluster 4\n",
      "Job ads: 117\n",
      "DevOps Cloud Platform Developer, PHZ Full Stack Oy | Rekrytointitalli Oy | Helsinki\n",
      "Data Scientist / Hadoop Architect | Bittium Corporation | Espoo\n",
      "Technical Tester | CGI | Helsinki\n",
      "Junior RPA Developer | Tieto | Espoo\n",
      "DevOps Cloud Platform Developer | Rekrytointitalli Oy | Helsinki\n",
      "...\n",
      "\n",
      "Cluster 5\n",
      "Job ads: 712\n",
      "Ohjelmistorobotiikan asiantuntija | Knowit Oy | Helsinki\n",
      "Web-suunnittelija | Buutti Oy | Oulu\n",
      "Python-kehittäjä koodariklaaniimme | Rekrytointitalli Oy | Helsinki\n",
      "SENIOR DEVELOPER KLINIK HEALTHCARE SOLUTIONSILLE | Academic Work | Helsinki\n",
      "Mielenkiintoisia ohjelmistokehitystehtäviä Oulussa! | Barona | Turku\n",
      "...\n",
      "\n",
      "Cluster 6\n",
      "Job ads: 16\n",
      "Service Engineer | Siemens AG | Espoo\n",
      "RESTAURANT WORKER | Ai-to Foods Oy | Helsinki\n",
      "RESTAURANT WORK | Ai-to Foods Oy | Helsinki\n",
      "Lead Developer / omat tuotteet | MindFit Consulting Oy | Turku\n",
      "Ohjelmointitaitoinen kehittäjä | Hurricane Oy Ab | Helsinki\n",
      "...\n",
      "\n",
      "Cluster 7\n",
      "Job ads: 2705\n",
      "Robotic Process Automation Developer (temporary position), H... | Nordea | Helsinki\n",
      "Senior Python Developer | Holvi | Helsinki\n",
      "Site Reliability Engineer | Holvi | Helsinki\n",
      "Back-end Developer (2 positions) | aTalent FI | Helsinki\n",
      "Python Developer | Holvi | Helsinki\n",
      "...\n",
      "\n",
      "Cluster 8\n",
      "Job ads: 414\n",
      "Associate General Manager-RPA | HCL Technologies | Helsinki\n",
      "Senior Legal Counsel | M-Files Oy | Tampere\n",
      "Program Manager | Microsoft | Helsinki\n",
      "Postdoctoral Researcher in machine learning for inferring ch... | Aalto University | Helsinki\n",
      "Tenure Track in Intelligent Machines | Tampereen teknillinen yliopisto | Tampere\n",
      "...\n",
      "\n",
      "Cluster 9\n",
      "Job ads: 909\n",
      "Insurance Professional, Helsinki | Nordea | Helsinki\n",
      "FULL STACK DEVELOPER WANTED! | Academic Work | Helsinki\n",
      "Python Developer - Helsinki -Tech Lead - Pyramid, Django, Fl... | Pearson Frank | Helsinki\n",
      "Backend Developer | Holvi | Helsinki\n",
      "Full Stack Developer WANTED! | Academic Work | Helsinki\n",
      "...\n",
      "\n",
      "Cluster 10\n",
      "Job ads: 12\n",
      "Java Developers | Tustor International Oy | Helsinki\n",
      "Data Engineer | Tustor International Oy | Tampere\n",
      "Experienced Java Developer | Tustor International Oy | Helsinki\n",
      "Java Developer | Tustor International Oy | Helsinki\n",
      "NET / C Developer (Microsoft CRM) | Tustor International Oy | Helsinki\n",
      "...\n",
      "\n",
      "Cluster 11\n",
      "Job ads: 159\n",
      "Postdoctoral Researcher (fixed term) in the area of edge-pla... | Aalto-yliopisto | Espoo\n",
      "Postdoctoral Researcher (fixed term) in the area of edge-pla... | Aalto University | Helsinki\n",
      "Computational Biologist / Bioinformatician | Helsingin yliopiston | Helsinki\n",
      "Postdoctoral Researcher in Computational HCI | Aalto University | Helsinki\n",
      "Tietojenkäsittelytieteen professori tai apulaisprofessori/Pr... | Tampereen Yliopisto | Tampere\n",
      "...\n",
      "\n",
      "Cluster 12\n",
      "Job ads: 20\n",
      "Back End / Front End / Cloud Services Developers | Sasken Finland Oy | Tampere\n",
      "Thesis worker in Cloud RAN SW | NOKIA | Espoo\n",
      "UX Designer | ACME Co. | Helsinki\n",
      "Embedded Test Engineer | Smartedge Solutions | Helsinki\n",
      "Embedded Test Engineer | Smartedge IT Services | Helsinki\n",
      "...\n",
      "\n",
      "Cluster 13\n",
      "Job ads: 294\n",
      "Senior Python, React Developer | Pearson Frank | Helsinki\n",
      "Python Developer - Helsinki | Pearson Frank | Helsinki\n",
      "Full - Stack Developer - Tampere | Pearson Frank | Turku\n",
      "Thesis Worker, Productization Oulu | NOKIA | Oulu\n",
      "SW Engineer, Platform Integration | NOKIA | Oulu\n",
      "...\n",
      "\n"
     ]
    },
    {
     "data": {
      "image/png": "[encoded data removed]",
      "text/plain": [
       "<Figure size 432x288 with 1 Axes>"
      ]
     },
     "metadata": {
      "needs_background": "light"
     },
     "output_type": "display_data"
    },
    {
     "data": {
      "image/png": "[encoded data removed]",
      "text/plain": [
       "<Figure size 1152x720 with 1 Axes>"
      ]
     },
     "metadata": {
      "needs_background": "light"
     },
     "output_type": "display_data"
    }
   ],
   "source": [
    "cluster_data = cluster_analysis(X, MAX_DISTANCE)\n",
    "linkage_matrix = cluster_data['linkage_matrix']\n",
    "similarities = cluster_data['similarities']\n",
    "clusters = cluster_data['clusters']\n",
    "\n",
    "display_clustering_results(linkage_matrix, clusters, job_summary_list, MAX_DISTANCE)"
   ]
  },
  {
   "cell_type": "code",
   "execution_count": 7,
   "metadata": {
    "ExecuteTime": {
     "end_time": "2019-03-10T07:13:28.627391Z",
     "start_time": "2019-03-10T07:13:28.548600Z"
    }
   },
   "outputs": [
    {
     "data": {
      "text/plain": [
       "2"
      ]
     },
     "execution_count": 7,
     "metadata": {},
     "output_type": "execute_result"
    }
   ],
   "source": [
    "k = calculate_optimal_number_of_clusters(linkage_matrix)\n",
    "k"
   ]
  },
  {
   "cell_type": "markdown",
   "metadata": {},
   "source": [
    "### Most similar documents"
   ]
  },
  {
   "cell_type": "code",
   "execution_count": 8,
   "metadata": {
    "ExecuteTime": {
     "end_time": "2019-03-10T07:13:28.726126Z",
     "start_time": "2019-03-10T07:13:28.632378Z"
    }
   },
   "outputs": [
    {
     "name": "stdout",
     "output_type": "stream",
     "text": [
      "Reference document:  5G Integration engineer | NOKIA | Oulu\n",
      "Most similar documents:\n",
      "[('5G Integration engineer | NOKIA | Oulu', 1.0000002),\n",
      " ('Engineer, Integration | NOKIA | Oulu', 0.9919855),\n",
      " ('5G Engineer, Integration | NOKIA | Oulu', 0.9919855),\n",
      " ('Trainee, Productization | NOKIA | Oulu', 0.9742592),\n",
      " ('Integrator 5G RF | NOKIA | Oulu', 0.9734559),\n",
      " ('Technical Lead 5G RF Integration | NOKIA | Oulu', 0.9734559),\n",
      " ('5G RF Integration | NOKIA | Oulu', 0.9734559),\n",
      " ('Engineer 5G RF Integration | NOKIA | Oulu', 0.9734559),\n",
      " ('SW DEVELOPER, EMBEDDED SW | TactoTek | Oulu', 0.96795243),\n",
      " ('Senior SW Development Engineer | Mentor Graphics | Oulu', 0.96720004),\n",
      " ('Senior Software Development Engineer | Mentor Graphics | Oulu', 0.96720004),\n",
      " ('Thesis Worker, Productization Oulu | NOKIA | Oulu', 0.96617854),\n",
      " ('L1/L2 SW designer | Kyynel Oy | Oulu', 0.9659085),\n",
      " ('Embedded Software Engineer for Exafore | Toughbyte | Tampere', 0.9655561),\n",
      " ('Specialist, SoC/IP SW Development | NOKIA | Tampere', 0.9633676)]\n"
     ]
    }
   ],
   "source": [
    "document_index = 50\n",
    "top_indices, top_similarities = calculate_most_similar_documents(document_index, similarities, 15)\n",
    "display_most_similar_documents(document_index, top_indices, top_similarities, job_summary_list)"
   ]
  },
  {
   "cell_type": "code",
   "execution_count": 9,
   "metadata": {
    "ExecuteTime": {
     "end_time": "2019-03-10T07:13:28.822868Z",
     "start_time": "2019-03-10T07:13:28.729119Z"
    }
   },
   "outputs": [
    {
     "name": "stdout",
     "output_type": "stream",
     "text": [
      "Reference document:  Testausautomaation ja RPA:n asiantuntija | Veikkaus Oy | Helsinki\n",
      "Most similar documents:\n",
      "[('Testausautomaation ja RPA:n asiantuntija | Veikkaus Oy | Helsinki',\n",
      "  1.0000004),\n",
      " ('DevOps- asiantuntija | Veikkaus Oy | Helsinki', 0.99540263),\n",
      " ('Testausautomaation ja RPA:n asiantuntija | Raha-Automaattiyhdistys (Ray) | '\n",
      "  'Helsinki',\n",
      "  0.99088025),\n",
      " ('Ohjelmistokehittäjä | Veikkaus Oy | Helsinki', 0.98851115),\n",
      " ('Kesäharjoittelija, tuotannonkehitys | Murata | Vantaa', 0.98836404),\n",
      " ('Process Development Consultant | Staria Oyj | Tampere', 0.9878476),\n",
      " ('Process Development Consultant | Staria Oyj | Helsinki', 0.9878476),\n",
      " ('Process Development Consultant, HKI / TRE | Staria Oyj | Tampere',\n",
      "  0.9878217),\n",
      " ('HR Manager, HR Operations | Digia | Helsinki', 0.98761034),\n",
      " ('HR Manager, HR Operations | Digia Oyj | Helsinki', 0.98761034),\n",
      " ('Ohjelmistokehittäjä (Senior) | Veikkaus Oy | Helsinki', 0.9875004),\n",
      " ('Atlassian-konsultti | Avoset Oy | Helsinki', 0.98737234),\n",
      " ('(Junior) data-analyytikko | Tact Finance | Helsinki', 0.9870627),\n",
      " ('Ohjelmistosuunnittelija | Polycon Oy | Espoo', 0.98702574),\n",
      " ('(Junior) Data-analyytikko | Tact Finance | Helsinki', 0.98691034)]\n"
     ]
    }
   ],
   "source": [
    "document_index = 0\n",
    "top_indices, top_similarities = calculate_most_similar_documents(document_index, similarities, 15)\n",
    "display_most_similar_documents(document_index, top_indices, top_similarities, job_summary_list)"
   ]
  },
  {
   "cell_type": "markdown",
   "metadata": {},
   "source": [
    "### PCA"
   ]
  },
  {
   "cell_type": "code",
   "execution_count": 10,
   "metadata": {
    "ExecuteTime": {
     "end_time": "2019-03-10T07:13:29.123676Z",
     "start_time": "2019-03-10T07:13:28.823866Z"
    }
   },
   "outputs": [
    {
     "data": {
      "image/png": "[encoded data removed]",
      "text/plain": [
       "<Figure size 432x288 with 2 Axes>"
      ]
     },
     "metadata": {
      "needs_background": "light"
     },
     "output_type": "display_data"
    }
   ],
   "source": [
    "pcs, pca_model = calculate_principal_components(X)\n",
    "plot_value_and_cumulative_value(pca_model.explained_variance_ratio_)"
   ]
  },
  {
   "cell_type": "markdown",
   "metadata": {},
   "source": [
    "### MDS"
   ]
  },
  {
   "cell_type": "code",
   "execution_count": 11,
   "metadata": {
    "ExecuteTime": {
     "end_time": "2019-03-10T07:13:29.206517Z",
     "start_time": "2019-03-10T07:13:29.125637Z"
    }
   },
   "outputs": [],
   "source": [
    "## Works but takes lot of time\n",
    "# distances = 1 - similarities\n",
    "# x,y = calculate_mds_vectors(distances)\n",
    "# plot_mds(x,y, clusters, job_summary_list)"
   ]
  },
  {
   "cell_type": "markdown",
   "metadata": {},
   "source": [
    "### Outlier detection"
   ]
  },
  {
   "cell_type": "code",
   "execution_count": 12,
   "metadata": {
    "ExecuteTime": {
     "end_time": "2019-03-10T07:13:29.965495Z",
     "start_time": "2019-03-10T07:13:29.206517Z"
    }
   },
   "outputs": [
    {
     "name": "stderr",
     "output_type": "stream",
     "text": [
      "/home/ossi/Repos/Personal/job_advertisement_analysis/venv/lib/python3.6/site-packages/sklearn/ensemble/iforest.py:213: FutureWarning: default contamination parameter 0.1 will change in version 0.22 to \"auto\". This will change the predict method behavior.\n",
      "  FutureWarning)\n",
      "/home/ossi/Repos/Personal/job_advertisement_analysis/venv/lib/python3.6/site-packages/sklearn/ensemble/iforest.py:223: FutureWarning: behaviour=\"old\" is deprecated and will be removed in version 0.22. Please use behaviour=\"new\", which makes the decision_function change to match other anomaly detection algorithm API.\n",
      "  FutureWarning)\n"
     ]
    }
   ],
   "source": [
    "rng = np.random.RandomState(42)\n",
    "clf = IsolationForest(random_state=rng)\n",
    "clf.fit(X)\n",
    "scores = clf.decision_function(X)"
   ]
  },
  {
   "cell_type": "code",
   "execution_count": 13,
   "metadata": {
    "ExecuteTime": {
     "end_time": "2019-03-10T07:13:30.226597Z",
     "start_time": "2019-03-10T07:13:29.965495Z"
    }
   },
   "outputs": [
    {
     "name": "stdout",
     "output_type": "stream",
     "text": [
      "Number of outliers detected: 115 (1.73 %)\n",
      "Outliers:\n",
      "Senior Python, React Developer | Pearson Frank | Helsinki\n",
      "Full - Stack Developer - Tampere | Pearson Frank | Turku\n",
      "Senior Python Developer | Pearson Frank | Tampere\n",
      "Back End / Front End / Cloud Services Developers | Sasken Finland Oy | Tampere\n",
      "Senior Python in - house Developer - Helsinki | Pearson Frank | Helsinki\n",
      "Senior Python Developer - Helsinki | Pearson Frank | Helsinki\n",
      "Part time trainee in Cloud RAN SW | NOKIA | Espoo\n",
      "Senior Developer | Nigel Frank International Limited | Helsinki\n",
      ".NET Ohjelmistokehittäjä | Nigel Frank International Limited | Vantaa\n",
      "Tohtorikoulutettavia ja tutkijatohtoreita (Finnish Center fo... | Aalto-yliopisto | Espoo\n",
      "Software developer | Codership | Helsinki\n",
      "Cloud Architect (AWS + VR/AR) | Finitec | Helsinki\n",
      "Senior Consultant - Helsinki | Pearson Frank | Helsinki\n",
      "Pihatyöntekijä | Ai-to Foods Oy | Vantaa\n",
      "Palveluneuvoja | Lumo Energia | Helsinki\n",
      "Lehtori (AI), Pitkäkankaan koulu | Oulun kaupunki | Oulu\n",
      "Lehtori (AI) | Oulun kaupunki | Oulu\n",
      ".NET kehittäjä | Finitec | Helsinki\n",
      "Ohjelmistosuunnittelija | SCM Best Oy | Helsinki\n",
      "Tietokanta-asiantuntija | Finitec | Helsinki\n",
      "Embedded Test Engineer | Smartedge Solutions | Helsinki\n",
      "Senior Server Programmer | Zynga | Helsinki\n",
      "Embedded Test Engineer | Smartedge IT Services | Helsinki\n",
      "ETSIMME OSA-AIKAISTA PROJEKTITYÖNTEKIJÄÄ YIT:LLE HELSINKIIN | Academic Work | Helsinki\n",
      "Ohjelmistokehittäjä | Sarkain Oy | Turku\n",
      "Embedded Engineer | Smartedge Solutions | Helsinki\n",
      "RESTAURANT WORKER | Ai-to Foods Oy | Helsinki\n",
      "Software Developer | Peak Code Oy | Espoo\n",
      "Data-analyytikko | Vero Skatt | Helsinki\n",
      ".NET -kehittäjä | Finitec | Helsinki\n",
      "Senior Game Developer (Puzzle Studio) | Rovio Mobile Oy | Espoo\n",
      "HW/SW Testing Engineer | Swedium Global Services AB | Oulu\n",
      "Trainee in E2E Cloud Solutions | NOKIA | Espoo\n",
      "Thesis worker in E2E Cloud Solutions | NOKIA | Espoo\n",
      "Senior Server Engineer | Zynga | Helsinki\n",
      "1-2 määräaikaista tutkimusavustajaa konekäännös tutkimusproj... | Turun Yliopisto | Turku\n",
      "ETL Developer | Finitec | Helsinki\n",
      "OHJELMISTOKEHITTÄJÄ (JAVA/.NET) LOGISTIIKAN ALALLE TAMPEREEL... | Academic Work | Tampere\n",
      "Testaava kehittäjä | Finitec | Tampere\n",
      "Web Developer | Euronic Oy | Turku\n",
      "Ohjelmistokehittäjä (JAVA/.NET) logistiikan alalle Tampereel... | Academic Work | Tampere\n",
      "Lehtori (AI), Haukiputaan koulu | Oulun kaupunki | Oulu\n",
      "RESTAURANT WORK | Ai-to Foods Oy | Helsinki\n",
      "Tietokanta- ja integraatioasiantuntija | CSC - Tieteen tietotekniikan keskus Oy | Espoo\n",
      "Ohjelmistosuunnittelija | Specialos Oy Ltd | Turku\n",
      "Testiautomaatio-kehittäjä | Finitec | Helsinki\n",
      "Office 365 -osaaja | Academic Work | Espoo\n",
      "Oppimiskykyinen suunnittelijaohjelmoija Helsinkiin! | Academic Work | Helsinki\n",
      "Ravintolan kassa-tarjoilija | Ai-to Foods Oy | Helsinki\n",
      "IT-Asiantuntija, SCCM-osaaja | Kuntien Tiera Oy | Turku\n",
      "Data Engineer | Tustor International Oy | Tampere\n",
      "IT-asiantuntija, SCCM-osaaja | Kuntien Tiera Oy | Helsinki\n",
      "Java / Python kehittäjä | Tustor International Oy | Espoo\n",
      "Sovelluskehittäjä (Windows) | Sebitti Oy | Oulu\n",
      "TIETOKANTAOSAAJA/IT-SUUNNITTELIJA | Nico | Tampere\n",
      "Ohjelmoija, tietotekniikka | Oodles Solutions Oy | Helsinki\n",
      "Suorituskykytestaaja | Oodles Solutions Oy | Helsinki\n",
      "Lead Developer / omat tuotteet | MindFit Consulting Oy | Turku\n",
      "Tuntiopettaja (AI) | Oulun kaupunki | Oulu\n",
      "Tuntiopettaja (AI, S2), kolme tehtävää | Oulun kaupunki | Oulu\n",
      "Tuntiopettaja (AI), Talvikankaan koulu | Oulun kaupunki | Oulu\n",
      "Tuntiopettaja (AI), Oulun aikuislukio | Oulun kaupunki | Oulu\n",
      "Lehtori (AI), Ritaharjun koulu | Oulun kaupunki | Oulu\n",
      "Lehtori (AI), Laanilan lukio | Oulun kaupunki | Oulu\n",
      "Ohjelmistokehittäjä terveydenhuollon tuotekehityksen pariin... | Academic Work | Espoo\n",
      "System Developer | barona.fi | Espoo\n",
      "NET / C Developer (Microsoft CRM) | Tustor International Oy | Helsinki\n",
      "Data Scientist | Hirexa | Helsinki\n",
      "MDM Consultant | Hirexa | Helsinki\n",
      "Backend painotteista Full-Stack kehittäjää | MindFit Consulting Oy | Helsinki\n",
      "Tietokanta-asiantuntija (Sql-server) | Finitec | Vantaa\n",
      "DevOps Engineer - Oulu - Product Company | Pearson Frank | Oulu\n",
      "DevOps Engineer opportunity | Pearson Frank | Helsinki\n",
      "DevOps Engineer opportunity - Product Company | Pearson Frank | Helsinki\n",
      "Ohjelmistostokehittäjä | Kotopro Oy | Vantaa\n",
      "Tekninen suunnittelija | Turun Yliopisto | Turku\n",
      "RPA-kehittäjä | Rajobit Oy | Oulu\n",
      "Lehtori (AI), Kaakkurin koulu | Oulun kaupunki | Oulu\n",
      "Lehtori (AI), Metsokankaan koulu | Oulun kaupunki | Oulu\n",
      "Tuntiopettaja (AI), Pitkäkankaan koulu | Oulun kaupunki | Oulu\n",
      "Tuntiopettaja (AI, S2), Merikosken koulu | Oulun kaupunki | Oulu\n",
      "Tuntiopettaja (AI), Pöllönkankaan koulu | Oulun kaupunki | Oulu\n",
      "Data Scientist :: Finland | crown global solution | Helsinki\n",
      "Ohjelmistokehittäjä, koneoppiminen | MindFit Consulting Oy | Helsinki\n",
      "Java Developer | Infoplus Technologies | Helsinki\n",
      "Kahvilamyyjä | Café Java / Goodcaf Oy | Helsinki\n",
      "Ohjelmistokehittäjä vastuulliseen rooliin pääkaupunkiseudull... | Academic Work | Helsinki\n",
      "Tekninen suunnittelija / mallintaja | Finitec | Helsinki\n",
      "Solution Architect | Hirexa | Helsinki\n",
      "PHP Developer | Finitec | Oulu\n",
      "Kesätyöntekijöitä tuotantoon | General Electric | Helsinki\n",
      "SENIOR DEVELOPER ASP.NET, MVC, T | Bangura Solutions | Espoo\n",
      "Leipomotyöntekijä Fazerin leipomoon | barona.fi | Vantaa\n",
      "Data Scientists | MindFit Consulting Oy | Helsinki\n",
      "Suunnittelija/controller | Tilastokeskus | Helsinki\n",
      "Server Engineer | Zynga | Helsinki\n",
      "Senior Software Engineer | Trimble Inc. | Espoo\n",
      "UX Designer | Trimble Inc. | Espoo\n",
      "Projekti-/hankepäällikkö | Finitec | Helsinki\n",
      "Software Specialist, Tekla Structures | Trimble Inc. | Espoo\n",
      "Kokkeja Harjattulan Kartanoon | barona.fi | Turku\n",
      "BIM Specialist/BIM Consultant | Trimble Inc. | Espoo\n",
      "4 consultans within Devops, AWS and Security | Ework.fi | Helsinki\n",
      "Lehtori (AI), Jokirannan koulu | Oulun kaupunki | Oulu\n",
      "Software Developer | Unelma Platforms | Espoo\n",
      "Kivityöntekijä | barona.fi | Turku\n",
      "Junior Data Modeller | Marlin Green | Helsinki\n",
      "Product Owner, Tekla Structures, BIM Collaboration | Trimble Inc. | Espoo\n",
      "Polkupyörän kasaaja | barona.fi | Helsinki\n",
      "Polkupyörien huoltaja | barona.fi | Helsinki\n",
      "Trainee Developer/Analyst | Mpower Plus | Helsinki\n",
      "Tuntiopettaja (AI, S2), kuusi tehtävää | Oulun kaupunki | Oulu\n",
      "Tuntiopettaja (AI), Laanilan yläaste | Oulun kaupunki | Oulu\n",
      "Tietokanta-asiantuntija (it-suunnittelija) | Turun kaupunki. | Turku\n",
      "Back-end Developer / Kokenut palvelinkehittäjä | Trimble Inc. | Espoo\n"
     ]
    },
    {
     "data": {
      "image/png": "[encoded data removed]",
      "text/plain": [
       "<Figure size 432x288 with 1 Axes>"
      ]
     },
     "metadata": {
      "needs_background": "light"
     },
     "output_type": "display_data"
    }
   ],
   "source": [
    "outlier_detection(scores, OUTLIER_DETECTION_TRESHOLD, job_summary_list)"
   ]
  },
  {
   "cell_type": "markdown",
   "metadata": {},
   "source": [
    "### Keyword extraction, summarization, tagging"
   ]
  },
  {
   "cell_type": "code",
   "execution_count": 14,
   "metadata": {
    "ExecuteTime": {
     "end_time": "2019-03-10T07:13:30.310320Z",
     "start_time": "2019-03-10T07:13:30.228577Z"
    }
   },
   "outputs": [
    {
     "name": "stdout",
     "output_type": "stream",
     "text": [
      "We are looking for Insurance Professional´s. You will meet our customers’ changing needs and offer them the best possible service.\n",
      "\n",
      "In today’s world, change is the one thing you can count on. But whatever the future brings, our customers remain at the heart of everything we do.\n",
      "\n",
      "That’s where you come in. Working with dedicated colleagues in an exciting, fast-paced environment, you’ll help meet our customers’ changing needs.\n",
      "\n",
      "We aim to be courageous and explorative in our approach to innovating better ways of delivering banking services – anytime, anywhere. This means you’ll have many opportunities to learn and grow as you build your career with us. Will you help us lead the way in creating great customer experiences?\n",
      "\n",
      "Your future responsibilities\n",
      "You will join Nordea Life´s Customer Services unit. Nordea Life is a subsidiary to Nordea. We offer life insurance solutions to private and corporate customers. Our mission is to integrate our products with those of Nordea bank and make life insurances more accessible for the customers.\n",
      "\n",
      "We are around 160 life business professionals. We continuously develop our way of working to be able to take customer satisfaction to the next level. We offer you an interesting and challenging position that enables you to show your potential and to grow professionall.\n",
      "\n",
      "Nordea Life is Great Place to Work® listed company in Finland 2017 and 2018. In the last survey 95 percent of our employees say their workplace is great.\n",
      "\n",
      "What you’ll be doing:\n",
      "\n",
      "Providing excellent customer service in different channels\n",
      "Showing flexibility and positive attitude in changing situations\n",
      "Making claim and pension decisions independently\n",
      "Making reconciliation independently\n",
      "Reporting to tax authorities\n",
      "Actively taking part in the process development and courage taking responsibility in all what you do\n",
      "The role is based in Helsinki and is a permanent position. Welcome to a unit of strongly customer focused people with deep knowledge and pride of our products and services. We expect you to have a positive mindset and active way of working.\n",
      "\n",
      "\n",
      "Who you are\n",
      "\n",
      "Collaboration. Ownership. Passion. Courage. These are the four key values that guide us in being at our best. We imagine that you enjoy learning and are excited about bringing your ideas to the table. You’re dependable, willing to speak up – even when it’s difficult – and committed to empowering others.\n",
      "\n",
      "To build a successful career with us, you’ll work well with others and always act with the customer’s needs in mind. You love learning new and you’re excited about bringing your ideas to the table. You’re honest and dependable, willing to speak up even when it’s difficult, and committed to empowering others. You’re passionate about doing a great job.\n",
      "\n",
      "Your profile and background:\n",
      "\n",
      "You have experience in customer service / claims handling processes\n",
      "You are interested in process development and process automation (RPA)\n",
      "You are an excellent team player and you spread positive team spirit around you\n",
      "You have Bachelor’s Degree\n",
      "You have professional skills in English, Swedish is an advantage\n",
      "SAFe knowledge and VTS (vakuutustutkinto ) are considered as an advantage\n",
      "If this sounds like you, get in touch!\n",
      "\n",
      "More information\n",
      "You have until 13th of July to send us your application.\n",
      "\n",
      "For more information about the position, you are welcome to contact Anu Kähkönen +358 503104656, email anu.kahkonen@nordea.com ( until 28 June) and Susanna Autio +358 503622158, email susanna.autio@nordea.com (until 13 July).\n",
      "\n",
      "\n",
      "At Nordea, we recruit from the widest possible pool and hire the best person for the job. Because diversity makes us stronger. And once you are on board, you will find that we offer equal opportunities to everyone.\n",
      "\n",
      "Great people often know great people – please share if you have a friend who could be a perfect match for this job.\n",
      "\n",
      "To all recruitment agencies: Please note, we don’t accept unsolicited resumes for any of our positions. All contact regarding agency resumes should be directed to Nordea Talent Acquisition which handles everything related to recruitment \n",
      "\n"
     ]
    }
   ],
   "source": [
    "document_index = 1\n",
    "test_document = documents[document_index]\n",
    "test_lemmas = lemmas[document_index]\n",
    "print(test_document, '\\n')"
   ]
  },
  {
   "cell_type": "code",
   "execution_count": 15,
   "metadata": {
    "ExecuteTime": {
     "end_time": "2019-03-10T07:13:30.411673Z",
     "start_time": "2019-03-10T07:13:30.312316Z"
    }
   },
   "outputs": [
    {
     "name": "stdout",
     "output_type": "stream",
     "text": [
      "Keywords:\n",
      "customer\n",
      "position\n",
      "positive\n",
      "nordea\n",
      "great\n",
      "service\n",
      "way\n",
      "offer\n",
      "job\n",
      "learn\n",
      "learning\n"
     ]
    }
   ],
   "source": [
    "keywords = keywords(' '.join(test_lemmas), ratio=0.05)\n",
    "print(f'Keywords:\\n{keywords}')"
   ]
  },
  {
   "cell_type": "code",
   "execution_count": 16,
   "metadata": {
    "ExecuteTime": {
     "end_time": "2019-03-10T07:13:30.502666Z",
     "start_time": "2019-03-10T07:13:30.413666Z"
    }
   },
   "outputs": [
    {
     "name": "stdout",
     "output_type": "stream",
     "text": [
      "You will meet our customers’ changing needs and offer them the best possible service.\n",
      "\n",
      "Working with dedicated colleagues in an exciting, fast-paced environment, you’ll help meet our customers’ changing needs.\n",
      "\n",
      "We offer life insurance solutions to private and corporate customers.\n",
      "\n",
      "Our mission is to integrate our products with those of Nordea bank and make life insurances more accessible for the customers.\n",
      "\n",
      "You have experience in customer service / claims handling processes\n",
      "\n"
     ]
    }
   ],
   "source": [
    "summary = summarize(test_document, split=True, ratio = 0.1)\n",
    "for s in summary: print(s + '\\n')"
   ]
  },
  {
   "cell_type": "markdown",
   "metadata": {},
   "source": [
    "## Semantic search"
   ]
  },
  {
   "cell_type": "code",
   "execution_count": 17,
   "metadata": {
    "ExecuteTime": {
     "end_time": "2019-03-10T07:13:30.596951Z",
     "start_time": "2019-03-10T07:13:30.504660Z"
    }
   },
   "outputs": [],
   "source": [
    "query = ['data','science']\n",
    "query_vector = calculate_document_vector(query, model)\n",
    "indices, scores = search_documents_by_relevance(np.array([query_vector]), X, number_threshold=10)\n",
    "most_relevant_job_ads = [job_summary_list[i] for i in indices]"
   ]
  },
  {
   "cell_type": "code",
   "execution_count": 18,
   "metadata": {
    "ExecuteTime": {
     "end_time": "2019-03-10T07:13:30.674645Z",
     "start_time": "2019-03-10T07:13:30.596951Z"
    }
   },
   "outputs": [
    {
     "name": "stdout",
     "output_type": "stream",
     "text": [
      "Lead Data Scientist | Harnham | Helsinki: 0.6665258407592773\n",
      "Data Scientist :: Finland | crown global solution | Helsinki: 0.6613986492156982\n",
      "Senior Data Engineer (Finnish Speaking) | Hewitt Britton | Helsinki: 0.6603383421897888\n",
      "Data Scientist | Hirexa | Helsinki: 0.6559022665023804\n",
      "Data Engineer | Lionbridge Technologies | Tampere: 0.6397413015365601\n",
      "Data Engineer | Harnham | Helsinki: 0.6325775980949402\n",
      "Software/Data Engineer | Lionbridge Technologies | Tampere: 0.6324383020401001\n",
      "Data Scientist | Best Player Consulting | Helsinki: 0.6314491033554077\n",
      "Data Scientist | Harnham | Helsinki: 0.6302502751350403\n",
      "Data Engineer, Fiskars Data & Analytics team | Fiskars Group | Helsinki: 0.6279071569442749\n"
     ]
    }
   ],
   "source": [
    "for ad, score in zip(most_relevant_job_ads, scores):\n",
    "    print(f'{ad}: {score}')"
   ]
  },
  {
   "cell_type": "code",
   "execution_count": null,
   "metadata": {},
   "outputs": [],
   "source": []
  }
 ],
 "metadata": {
  "kernelspec": {
   "display_name": "venv",
   "language": "python",
   "name": "venv"
  },
  "language_info": {
   "codemirror_mode": {
    "name": "ipython",
    "version": 3
   },
   "file_extension": ".py",
   "mimetype": "text/x-python",
   "name": "python",
   "nbconvert_exporter": "python",
   "pygments_lexer": "ipython3",
   "version": "3.6.7"
  },
  "varInspector": {
   "cols": {
    "lenName": 16,
    "lenType": 16,
    "lenVar": 40
   },
   "kernels_config": {
    "python": {
     "delete_cmd_postfix": "",
     "delete_cmd_prefix": "del ",
     "library": "var_list.py",
     "varRefreshCmd": "print(var_dic_list())"
    },
    "r": {
     "delete_cmd_postfix": ") ",
     "delete_cmd_prefix": "rm(",
     "library": "var_list.r",
     "varRefreshCmd": "cat(var_dic_list()) "
    }
   },
   "types_to_exclude": [
    "module",
    "function",
    "builtin_function_or_method",
    "instance",
    "_Feature"
   ],
   "window_display": false
  }
 },
 "nbformat": 4,
 "nbformat_minor": 2
}
