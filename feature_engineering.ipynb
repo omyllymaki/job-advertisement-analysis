{
 "cells": [
  {
   "cell_type": "markdown",
   "metadata": {},
   "source": [
    "## FEATURE ENGINEERING"
   ]
  },
  {
   "cell_type": "code",
   "execution_count": 1,
   "metadata": {},
   "outputs": [],
   "source": [
    "from IPython.core.interactiveshell import InteractiveShell\n",
    "%load_ext autoreload\n",
    "%autoreload 2\n",
    "InteractiveShell.ast_node_interactivity = \"all\""
   ]
  },
  {
   "cell_type": "code",
   "execution_count": 2,
   "metadata": {
    "ExecuteTime": {
     "end_time": "2019-03-10T07:10:13.956347Z",
     "start_time": "2019-03-10T07:10:12.893586Z"
    }
   },
   "outputs": [],
   "source": [
    "from sklearn.feature_extraction.text import TfidfVectorizer, CountVectorizer\n",
    "import gensim\n",
    "import numpy as np\n",
    "from gensim import corpora\n",
    "from gensim.models import TfidfModel, LsiModel\n",
    "import fasttext\n",
    "import os\n",
    "from utils import save_pickle_file, load_pickle_file, write_to_text_file, load_fasttext_model\n",
    "from constants import *"
   ]
  },
  {
   "cell_type": "code",
   "execution_count": 3,
   "metadata": {
    "ExecuteTime": {
     "end_time": "2019-03-10T07:10:14.541660Z",
     "start_time": "2019-03-10T07:10:13.958093Z"
    }
   },
   "outputs": [],
   "source": [
    "processed_data = load_pickle_file(PROCESSED_DATA_PATH)\n",
    "processed_documents = processed_data['processed_documents']\n",
    "lemmas = processed_data['lemmas']\n",
    "documents = processed_data['documents']"
   ]
  },
  {
   "cell_type": "markdown",
   "metadata": {},
   "source": [
    "### Bag-of-words model"
   ]
  },
  {
   "cell_type": "code",
   "execution_count": 4,
   "metadata": {
    "ExecuteTime": {
     "end_time": "2019-03-10T07:10:15.552062Z",
     "start_time": "2019-03-10T07:10:14.541660Z"
    }
   },
   "outputs": [],
   "source": [
    "tdidf_vectorizer = TfidfVectorizer(max_df = 0.8, min_df = 0.02, max_features = 5000, ngram_range=(1,3))\n",
    "bag = tdidf_vectorizer.fit_transform(processed_documents)\n",
    "bag_array = bag.toarray()\n",
    "bow_vocabulary = {y:x for x,y in tdidf_vectorizer.vocabulary_.items()}"
   ]
  },
  {
   "cell_type": "code",
   "execution_count": 5,
   "metadata": {
    "ExecuteTime": {
     "end_time": "2019-03-10T07:10:15.585614Z",
     "start_time": "2019-03-10T07:10:15.556657Z"
    }
   },
   "outputs": [
    {
     "data": {
      "text/plain": [
       "(6659, 2286)"
      ]
     },
     "execution_count": 5,
     "metadata": {},
     "output_type": "execute_result"
    }
   ],
   "source": [
    "bag_array.shape"
   ]
  },
  {
   "cell_type": "code",
   "execution_count": 6,
   "metadata": {
    "ExecuteTime": {
     "end_time": "2019-03-10T07:10:15.779441Z",
     "start_time": "2019-03-10T07:10:15.588567Z"
    }
   },
   "outputs": [],
   "source": [
    "model_data = {\n",
    "    'model': bag,\n",
    "    'X': bag_array,\n",
    "    'vocabulary': bow_vocabulary,\n",
    "    'tdidf_vectorizer': tdidf_vectorizer,\n",
    "}\n",
    "save_pickle_file(model_data, BOW_MODEL_PATH)"
   ]
  },
  {
   "cell_type": "markdown",
   "metadata": {},
   "source": [
    "### Word2Vec model"
   ]
  },
  {
   "cell_type": "code",
   "execution_count": 7,
   "metadata": {
    "ExecuteTime": {
     "end_time": "2019-03-10T07:10:15.785416Z",
     "start_time": "2019-03-10T07:10:15.781428Z"
    }
   },
   "outputs": [],
   "source": [
    "# filename = 'C:\\\\repos\\\\GoogleNews-vectors-negative300.bin'\n",
    "# word2vec_model = gensim.models.KeyedVectors.load_word2vec_format(filename, binary=True)\n",
    "# word2vec_model.init_sims(replace=True)"
   ]
  },
  {
   "cell_type": "code",
   "execution_count": 8,
   "metadata": {
    "ExecuteTime": {
     "end_time": "2019-03-10T07:10:25.287272Z",
     "start_time": "2019-03-10T07:10:15.788409Z"
    }
   },
   "outputs": [
    {
     "name": "stderr",
     "output_type": "stream",
     "text": [
      "/home/ossi/Repos/Personal/job_advertisement_analysis/venv/lib/python3.6/site-packages/ipykernel_launcher.py:2: DeprecationWarning: Call to deprecated `iter` (Attribute will be removed in 4.0.0, use self.epochs instead).\n",
      "  \n"
     ]
    },
    {
     "data": {
      "text/plain": [
       "(8257177, 8648925)"
      ]
     },
     "execution_count": 8,
     "metadata": {},
     "output_type": "execute_result"
    }
   ],
   "source": [
    "word2vec_model = gensim.models.Word2Vec(lemmas, min_count=2, size=100)\n",
    "word2vec_model.train(lemmas, total_examples=len(lemmas), epochs=word2vec_model.iter)"
   ]
  },
  {
   "cell_type": "code",
   "execution_count": 9,
   "metadata": {
    "ExecuteTime": {
     "end_time": "2019-03-10T07:10:25.297244Z",
     "start_time": "2019-03-10T07:10:25.290260Z"
    }
   },
   "outputs": [],
   "source": [
    "def calculate_document_vector(word2vec_model, lemmas):\n",
    "    lemmas = [lemma for lemma in lemmas if lemma in word2vec_model.wv.vocab]\n",
    "    return np.mean(word2vec_model[lemmas], axis=0)"
   ]
  },
  {
   "cell_type": "code",
   "execution_count": 10,
   "metadata": {
    "ExecuteTime": {
     "end_time": "2019-03-10T07:10:28.242364Z",
     "start_time": "2019-03-10T07:10:25.300234Z"
    }
   },
   "outputs": [
    {
     "name": "stderr",
     "output_type": "stream",
     "text": [
      "/home/ossi/Repos/Personal/job_advertisement_analysis/venv/lib/python3.6/site-packages/ipykernel_launcher.py:3: DeprecationWarning: Call to deprecated `__getitem__` (Method will be removed in 4.0.0, use self.wv.__getitem__() instead).\n",
      "  This is separate from the ipykernel package so we can avoid doing imports until\n"
     ]
    }
   ],
   "source": [
    "document_vectors = [calculate_document_vector(word2vec_model, document_lemmas) \n",
    "                    for document_lemmas in lemmas]\n",
    "document_vectors_array = np.array(document_vectors)"
   ]
  },
  {
   "cell_type": "code",
   "execution_count": 11,
   "metadata": {
    "ExecuteTime": {
     "end_time": "2019-03-10T07:10:28.249044Z",
     "start_time": "2019-03-10T07:10:28.242364Z"
    }
   },
   "outputs": [
    {
     "data": {
      "text/plain": [
       "30528"
      ]
     },
     "execution_count": 11,
     "metadata": {},
     "output_type": "execute_result"
    }
   ],
   "source": [
    "len(word2vec_model.wv.vocab)"
   ]
  },
  {
   "cell_type": "code",
   "execution_count": 12,
   "metadata": {
    "ExecuteTime": {
     "end_time": "2019-03-10T07:10:28.267994Z",
     "start_time": "2019-03-10T07:10:28.252035Z"
    }
   },
   "outputs": [
    {
     "data": {
      "text/plain": [
       "(6659, 100)"
      ]
     },
     "execution_count": 12,
     "metadata": {},
     "output_type": "execute_result"
    }
   ],
   "source": [
    "document_vectors_array.shape"
   ]
  },
  {
   "cell_type": "code",
   "execution_count": 13,
   "metadata": {
    "ExecuteTime": {
     "end_time": "2019-03-10T07:10:28.303933Z",
     "start_time": "2019-03-10T07:10:28.269986Z"
    },
    "scrolled": false
   },
   "outputs": [
    {
     "data": {
      "text/plain": [
       "[('scala', 0.7569723129272461),\n",
       " ('bash', 0.7142179608345032),\n",
       " ('scripting', 0.705761194229126),\n",
       " ('ruby', 0.7035665512084961),\n",
       " ('matlab', 0.6969648003578186),\n",
       " ('j', 0.6933891773223877),\n",
       " ('java', 0.6803004741668701),\n",
       " ('jvm', 0.6669284701347351),\n",
       " ('clojure', 0.6640642881393433),\n",
       " ('perl', 0.6622717380523682)]"
      ]
     },
     "execution_count": 13,
     "metadata": {},
     "output_type": "execute_result"
    }
   ],
   "source": [
    "test_word = 'python'\n",
    "word2vec_model.wv.most_similar(positive=test_word, topn=10)"
   ]
  },
  {
   "cell_type": "code",
   "execution_count": 14,
   "metadata": {
    "ExecuteTime": {
     "end_time": "2019-03-10T07:10:28.470525Z",
     "start_time": "2019-03-10T07:10:28.305894Z"
    }
   },
   "outputs": [],
   "source": [
    "model_data = {\n",
    "    'model': word2vec_model,\n",
    "    'X': document_vectors_array,\n",
    "    'vocabulary': word2vec_model.wv.vocab,\n",
    "}\n",
    "save_pickle_file(model_data, WORD2VEC_MODEL_PATH)"
   ]
  },
  {
   "cell_type": "markdown",
   "metadata": {},
   "source": [
    "### LSA model"
   ]
  },
  {
   "cell_type": "code",
   "execution_count": 15,
   "metadata": {
    "ExecuteTime": {
     "end_time": "2019-03-10T07:10:42.054213Z",
     "start_time": "2019-03-10T07:10:28.471289Z"
    }
   },
   "outputs": [],
   "source": [
    "dictionary = corpora.Dictionary(lemmas)\n",
    "corpus_gensim = [dictionary.doc2bow(document) for document in lemmas]\n",
    "tfidf = TfidfModel(corpus_gensim)\n",
    "corpus_tfidf = tfidf[corpus_gensim]\n",
    "lsa_model = LsiModel(corpus_tfidf, id2word=dictionary, num_topics=300)"
   ]
  },
  {
   "cell_type": "markdown",
   "metadata": {},
   "source": [
    "### FastText model"
   ]
  },
  {
   "cell_type": "code",
   "execution_count": 6,
   "metadata": {},
   "outputs": [],
   "source": [
    "lemmas_flattened = [item for sublist in lemmas for item in sublist]\n",
    "words = ' '.join(lemmas_flattened)"
   ]
  },
  {
   "cell_type": "code",
   "execution_count": 7,
   "metadata": {},
   "outputs": [],
   "source": [
    "path = os.path.join('data','lemmas.txt')\n",
    "write_to_text_file(words, path)"
   ]
  },
  {
   "cell_type": "code",
   "execution_count": 8,
   "metadata": {},
   "outputs": [
    {
     "data": {
      "text/plain": [
       "<fasttext.model.WordVectorModel at 0x7faddc3ec048>"
      ]
     },
     "execution_count": 8,
     "metadata": {},
     "output_type": "execute_result"
    }
   ],
   "source": [
    "fasttext.skipgram(input_file=path,\n",
    "                          output=FASTTEXT_MODEL_PATH,\n",
    "                          thread=6,\n",
    "                          silent=False,\n",
    "                          dim=100,\n",
    "                          minn=3,\n",
    "                          maxn=6,\n",
    "                          epoch=5,\n",
    "                          lr=0.05,\n",
    "                          min_count=3)"
   ]
  },
  {
   "cell_type": "code",
   "execution_count": 4,
   "metadata": {},
   "outputs": [],
   "source": [
    "model = load_fasttext_model(FASTTEXT_MODEL_PATH + '.bin')"
   ]
  },
  {
   "cell_type": "code",
   "execution_count": 5,
   "metadata": {},
   "outputs": [
    {
     "data": {
      "text/plain": [
       "[('cython', 0.8306050300598145),\n",
       " ('qml', 0.8013296127319336),\n",
       " ('pythonexperience', 0.7899424433708191),\n",
       " ('bash', 0.7756275534629822),\n",
       " ('javacript', 0.7741864919662476),\n",
       " ('bpmn', 0.7604794502258301),\n",
       " ('javaprogramming', 0.7591749429702759),\n",
       " ('pythonia', 0.7578659653663635),\n",
       " ('pytorch', 0.757329523563385),\n",
       " ('gitlab', 0.7497174143791199)]"
      ]
     },
     "execution_count": 5,
     "metadata": {},
     "output_type": "execute_result"
    }
   ],
   "source": [
    "test_word = 'python'\n",
    "model.wv.most_similar(test_word, topn=10)"
   ]
  },
  {
   "cell_type": "code",
   "execution_count": 6,
   "metadata": {},
   "outputs": [
    {
     "data": {
      "text/plain": [
       "[('datascience', 0.9024331569671631),\n",
       " ('dataanalytics', 0.7857604026794434),\n",
       " ('bioscience', 0.7785853147506714),\n",
       " ('datarelated', 0.7641087770462036),\n",
       " ('analytics', 0.7460598945617676),\n",
       " ('lifescience', 0.744613766670227),\n",
       " ('scienceled', 0.7378937005996704),\n",
       " ('dataanalyst', 0.7292890548706055),\n",
       " ('dataanalysis', 0.7169116735458374),\n",
       " ('datajob', 0.7148062586784363)]"
      ]
     },
     "execution_count": 6,
     "metadata": {},
     "output_type": "execute_result"
    }
   ],
   "source": [
    "test_words = ['data', 'science']\n",
    "model.wv.most_similar(positive=test_words,topn=10)"
   ]
  },
  {
   "cell_type": "code",
   "execution_count": null,
   "metadata": {},
   "outputs": [],
   "source": []
  }
 ],
 "metadata": {
  "kernelspec": {
   "display_name": "venv",
   "language": "python",
   "name": "venv"
  },
  "language_info": {
   "codemirror_mode": {
    "name": "ipython",
    "version": 3
   },
   "file_extension": ".py",
   "mimetype": "text/x-python",
   "name": "python",
   "nbconvert_exporter": "python",
   "pygments_lexer": "ipython3",
   "version": "3.6.7"
  },
  "varInspector": {
   "cols": {
    "lenName": 16,
    "lenType": 16,
    "lenVar": 40
   },
   "kernels_config": {
    "python": {
     "delete_cmd_postfix": "",
     "delete_cmd_prefix": "del ",
     "library": "var_list.py",
     "varRefreshCmd": "print(var_dic_list())"
    },
    "r": {
     "delete_cmd_postfix": ") ",
     "delete_cmd_prefix": "rm(",
     "library": "var_list.r",
     "varRefreshCmd": "cat(var_dic_list()) "
    }
   },
   "types_to_exclude": [
    "module",
    "function",
    "builtin_function_or_method",
    "instance",
    "_Feature"
   ],
   "window_display": false
  }
 },
 "nbformat": 4,
 "nbformat_minor": 2
}
